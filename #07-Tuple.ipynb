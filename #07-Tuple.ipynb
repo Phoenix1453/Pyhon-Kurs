{
 "cells": [
  {
   "cell_type": "code",
   "execution_count": 1,
   "id": "66e90b85",
   "metadata": {},
   "outputs": [],
   "source": [
    "#Değeri bir kere belirlendikten sonra bir daha değişmez"
   ]
  },
  {
   "cell_type": "code",
   "execution_count": 1,
   "id": "335fe1e3",
   "metadata": {},
   "outputs": [],
   "source": [
    "my_list = [\"a\",1,\"c\"]"
   ]
  },
  {
   "cell_type": "code",
   "execution_count": 2,
   "id": "06e16e1c",
   "metadata": {},
   "outputs": [
    {
     "data": {
      "text/plain": [
       "['a', 1, 'c']"
      ]
     },
     "execution_count": 2,
     "metadata": {},
     "output_type": "execute_result"
    }
   ],
   "source": [
    "my_list\n"
   ]
  },
  {
   "cell_type": "code",
   "execution_count": 3,
   "id": "e3dcdce2",
   "metadata": {},
   "outputs": [],
   "source": [
    "my_list[0]=\"b\""
   ]
  },
  {
   "cell_type": "code",
   "execution_count": 4,
   "id": "35e90a42",
   "metadata": {},
   "outputs": [],
   "source": [
    "my_tuple = (\"a\",\"c\",1)"
   ]
  },
  {
   "cell_type": "code",
   "execution_count": 5,
   "id": "f743131b",
   "metadata": {},
   "outputs": [
    {
     "data": {
      "text/plain": [
       "'a'"
      ]
     },
     "execution_count": 5,
     "metadata": {},
     "output_type": "execute_result"
    }
   ],
   "source": [
    "my_tuple[0]"
   ]
  },
  {
   "cell_type": "code",
   "execution_count": 8,
   "id": "edaf5a11",
   "metadata": {},
   "outputs": [
    {
     "ename": "TypeError",
     "evalue": "'tuple' object does not support item assignment",
     "output_type": "error",
     "traceback": [
      "\u001b[1;31m---------------------------------------------------------------------------\u001b[0m",
      "\u001b[1;31mTypeError\u001b[0m                                 Traceback (most recent call last)",
      "\u001b[1;32m~\\AppData\\Local\\Temp\\ipykernel_4788\\4060671067.py\u001b[0m in \u001b[0;36m<module>\u001b[1;34m\u001b[0m\n\u001b[1;32m----> 1\u001b[1;33m \u001b[0mmy_tuple\u001b[0m\u001b[1;33m[\u001b[0m\u001b[1;36m0\u001b[0m\u001b[1;33m]\u001b[0m \u001b[1;33m=\u001b[0m \u001b[1;34m\"b\"\u001b[0m\u001b[1;33m\u001b[0m\u001b[1;33m\u001b[0m\u001b[0m\n\u001b[0m",
      "\u001b[1;31mTypeError\u001b[0m: 'tuple' object does not support item assignment"
     ]
    }
   ],
   "source": [
    "my_tuple[0] = \"b\""
   ]
  },
  {
   "cell_type": "markdown",
   "id": "7d72af2d",
   "metadata": {},
   "source": [
    "#Yukarıdaki örnekte olduğu gibi tuple içeriği sonradan değiştirilemiyor(immutuable)"
   ]
  },
  {
   "cell_type": "code",
   "execution_count": 12,
   "id": "b27e313b",
   "metadata": {},
   "outputs": [
    {
     "data": {
      "text/plain": [
       "1"
      ]
     },
     "execution_count": 12,
     "metadata": {},
     "output_type": "execute_result"
    }
   ],
   "source": [
    "my_tuple.count(\"a\") #a elemanından kaç tane olduğunu saydı"
   ]
  },
  {
   "cell_type": "code",
   "execution_count": 13,
   "id": "5f4472e1",
   "metadata": {},
   "outputs": [],
   "source": [
    "my_tuple_2 = (\"a\",\"a\",\"b\",\"c\",1)"
   ]
  },
  {
   "cell_type": "code",
   "execution_count": 14,
   "id": "abd6bf24",
   "metadata": {},
   "outputs": [
    {
     "data": {
      "text/plain": [
       "1"
      ]
     },
     "execution_count": 14,
     "metadata": {},
     "output_type": "execute_result"
    }
   ],
   "source": [
    "my_tuple_2.count(1)"
   ]
  },
  {
   "cell_type": "code",
   "execution_count": 15,
   "id": "e663a3b6",
   "metadata": {},
   "outputs": [
    {
     "data": {
      "text/plain": [
       "2"
      ]
     },
     "execution_count": 15,
     "metadata": {},
     "output_type": "execute_result"
    }
   ],
   "source": [
    "my_tuple_2.count(\"a\")"
   ]
  },
  {
   "cell_type": "code",
   "execution_count": 17,
   "id": "b19cd7d5",
   "metadata": {},
   "outputs": [
    {
     "data": {
      "text/plain": [
       "4"
      ]
     },
     "execution_count": 17,
     "metadata": {},
     "output_type": "execute_result"
    }
   ],
   "source": [
    "my_tuple_2.index(1) #1 ifadesinin kaçıncı sırada olduğunu buldu"
   ]
  },
  {
   "cell_type": "code",
   "execution_count": 18,
   "id": "795ecb28",
   "metadata": {},
   "outputs": [
    {
     "data": {
      "text/plain": [
       "0"
      ]
     },
     "execution_count": 18,
     "metadata": {},
     "output_type": "execute_result"
    }
   ],
   "source": [
    "my_tuple_2.index(\"a\")"
   ]
  }
 ],
 "metadata": {
  "kernelspec": {
   "display_name": "Python 3 (ipykernel)",
   "language": "python",
   "name": "python3"
  },
  "language_info": {
   "codemirror_mode": {
    "name": "ipython",
    "version": 3
   },
   "file_extension": ".py",
   "mimetype": "text/x-python",
   "name": "python",
   "nbconvert_exporter": "python",
   "pygments_lexer": "ipython3",
   "version": "3.9.13"
  }
 },
 "nbformat": 4,
 "nbformat_minor": 5
}
