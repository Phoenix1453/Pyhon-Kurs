{
 "cells": [
  {
   "cell_type": "code",
   "execution_count": 105,
   "id": "f05aea2b",
   "metadata": {},
   "outputs": [],
   "source": [
    "string = \"James Hetfield\""
   ]
  },
  {
   "cell_type": "code",
   "execution_count": 106,
   "id": "940ca081",
   "metadata": {},
   "outputs": [],
   "source": [
    "my_letter = string[4] #veya aşağıdaki gibi"
   ]
  },
  {
   "cell_type": "code",
   "execution_count": 107,
   "id": "c28afba5",
   "metadata": {},
   "outputs": [
    {
     "data": {
      "text/plain": [
       "'s'"
      ]
     },
     "execution_count": 107,
     "metadata": {},
     "output_type": "execute_result"
    }
   ],
   "source": [
    "string[4]"
   ]
  },
  {
   "cell_type": "code",
   "execution_count": 108,
   "id": "51ec3e9e",
   "metadata": {},
   "outputs": [],
   "source": [
    "my_new_string = \"QuentinTarantino\""
   ]
  },
  {
   "cell_type": "code",
   "execution_count": 109,
   "id": "1ebd72f5",
   "metadata": {},
   "outputs": [
    {
     "data": {
      "text/plain": [
       "'tinT'"
      ]
     },
     "execution_count": 109,
     "metadata": {},
     "output_type": "execute_result"
    }
   ],
   "source": [
    " my_new_string[4:8]"
   ]
  },
  {
   "cell_type": "code",
   "execution_count": 110,
   "id": "59d17c27",
   "metadata": {},
   "outputs": [],
   "source": [
    "my_last_string = \"Afyonkarahisarlılaştıramadıklarımızdanmısınız\""
   ]
  },
  {
   "cell_type": "code",
   "execution_count": 111,
   "id": "5cfe5b12",
   "metadata": {},
   "outputs": [
    {
     "data": {
      "text/plain": [
       "'zınısımnadzımıralkıdamarıtşalılrasiharaknoyfA'"
      ]
     },
     "execution_count": 111,
     "metadata": {},
     "output_type": "execute_result"
    }
   ],
   "source": [
    "my_last_string[::-1]"
   ]
  },
  {
   "cell_type": "markdown",
   "id": "a6dda29d",
   "metadata": {},
   "source": [
    "# Integer & Float"
   ]
  },
  {
   "cell_type": "code",
   "execution_count": 112,
   "id": "ea267eef",
   "metadata": {},
   "outputs": [],
   "source": [
    "w = 3 + 10.2 + 50"
   ]
  },
  {
   "cell_type": "code",
   "execution_count": 113,
   "id": "25b2aa07",
   "metadata": {},
   "outputs": [],
   "source": [
    "#Float"
   ]
  },
  {
   "cell_type": "code",
   "execution_count": 114,
   "id": "e8259b45",
   "metadata": {},
   "outputs": [
    {
     "data": {
      "text/plain": [
       "float"
      ]
     },
     "execution_count": 114,
     "metadata": {},
     "output_type": "execute_result"
    }
   ],
   "source": [
    "type(w)"
   ]
  },
  {
   "cell_type": "code",
   "execution_count": 115,
   "id": "c0edc855",
   "metadata": {},
   "outputs": [],
   "source": [
    "t = 5+ 8 *12"
   ]
  },
  {
   "cell_type": "code",
   "execution_count": 116,
   "id": "a3adcec9",
   "metadata": {},
   "outputs": [],
   "source": [
    "#101"
   ]
  },
  {
   "cell_type": "code",
   "execution_count": 117,
   "id": "6fe24c70",
   "metadata": {},
   "outputs": [
    {
     "data": {
      "text/plain": [
       "101"
      ]
     },
     "execution_count": 117,
     "metadata": {},
     "output_type": "execute_result"
    }
   ],
   "source": [
    "t"
   ]
  },
  {
   "cell_type": "markdown",
   "id": "f6268be2",
   "metadata": {},
   "source": [
    "# List & Dictionary & Set "
   ]
  },
  {
   "cell_type": "code",
   "execution_count": 118,
   "id": "3e0557d9",
   "metadata": {},
   "outputs": [],
   "source": [
    "# 1) Bu listeyi 3 farklı yoldan oluşturunuz: [1,2,\"a\"]"
   ]
  },
  {
   "cell_type": "code",
   "execution_count": 119,
   "id": "f2dc6a0f",
   "metadata": {},
   "outputs": [],
   "source": [
    "my_tuple = (1,2,\"a\")"
   ]
  },
  {
   "cell_type": "code",
   "execution_count": 120,
   "id": "7dc14826",
   "metadata": {},
   "outputs": [],
   "source": [
    "my_dictionary = {\"key1\": 1,\"key2\":2,\"key3\":\"a\"}"
   ]
  },
  {
   "cell_type": "code",
   "execution_count": 121,
   "id": "edb9f6de",
   "metadata": {},
   "outputs": [],
   "source": [
    "my_list = [1,2,\"a\"]"
   ]
  },
  {
   "cell_type": "code",
   "execution_count": 122,
   "id": "aeea7f6e",
   "metadata": {},
   "outputs": [],
   "source": [
    "my_list_2 = []"
   ]
  },
  {
   "cell_type": "code",
   "execution_count": 123,
   "id": "dfb9c054",
   "metadata": {},
   "outputs": [],
   "source": [
    "my_list_2.append(1)"
   ]
  },
  {
   "cell_type": "code",
   "execution_count": 124,
   "id": "ef154800",
   "metadata": {},
   "outputs": [],
   "source": [
    "my_list_2.append(2)"
   ]
  },
  {
   "cell_type": "code",
   "execution_count": 125,
   "id": "26bd6823",
   "metadata": {},
   "outputs": [],
   "source": [
    "my_list_2.append(\"a\")"
   ]
  },
  {
   "cell_type": "code",
   "execution_count": 126,
   "id": "b01f8783",
   "metadata": {},
   "outputs": [],
   "source": [
    "my_list_3 = list()"
   ]
  },
  {
   "cell_type": "code",
   "execution_count": 127,
   "id": "50c928f9",
   "metadata": {},
   "outputs": [],
   "source": [
    "my_list_3.append(1)"
   ]
  },
  {
   "cell_type": "code",
   "execution_count": 128,
   "id": "9a5ac167",
   "metadata": {},
   "outputs": [],
   "source": [
    "my_list_3.append(2)"
   ]
  },
  {
   "cell_type": "code",
   "execution_count": 129,
   "id": "43ff6a30",
   "metadata": {},
   "outputs": [],
   "source": [
    "my_list_3.append(\"a\")"
   ]
  },
  {
   "cell_type": "code",
   "execution_count": 130,
   "id": "b1bfc789",
   "metadata": {},
   "outputs": [],
   "source": [
    "my_set = {1,2,\"a\"} #ekstra"
   ]
  },
  {
   "cell_type": "code",
   "execution_count": 131,
   "id": "5e994c92",
   "metadata": {},
   "outputs": [
    {
     "data": {
      "text/plain": [
       "set"
      ]
     },
     "execution_count": 131,
     "metadata": {},
     "output_type": "execute_result"
    }
   ],
   "source": [
    "type(my_set)"
   ]
  },
  {
   "cell_type": "code",
   "execution_count": 132,
   "id": "55890e04",
   "metadata": {},
   "outputs": [],
   "source": [
    "# 2) Aşağıdaki \"a\"'yı tek satırda alınız:"
   ]
  },
  {
   "cell_type": "code",
   "execution_count": 133,
   "id": "f2295c69",
   "metadata": {},
   "outputs": [],
   "source": [
    "my_list = [1,4,[2,3,\"a\"]]"
   ]
  },
  {
   "cell_type": "code",
   "execution_count": 134,
   "id": "e2a0b1b2",
   "metadata": {},
   "outputs": [
    {
     "data": {
      "text/plain": [
       "'a'"
      ]
     },
     "execution_count": 134,
     "metadata": {},
     "output_type": "execute_result"
    }
   ],
   "source": [
    "my_list[2][2]"
   ]
  },
  {
   "cell_type": "code",
   "execution_count": 135,
   "id": "ce944993",
   "metadata": {},
   "outputs": [],
   "source": [
    "# 3) Aşağıdaki \"b\"'yi tek satırda alınız:"
   ]
  },
  {
   "cell_type": "code",
   "execution_count": 136,
   "id": "1cf976bd",
   "metadata": {},
   "outputs": [],
   "source": [
    "my_dictionary = {\"k1\":2, \"kk\":[4,{\"kkkk\":\"b\"}]}"
   ]
  },
  {
   "cell_type": "code",
   "execution_count": 137,
   "id": "61db5da1",
   "metadata": {},
   "outputs": [
    {
     "data": {
      "text/plain": [
       "'b'"
      ]
     },
     "execution_count": 137,
     "metadata": {},
     "output_type": "execute_result"
    }
   ],
   "source": [
    "my_dictionary[\"kk\"][1][\"kkkk\"]"
   ]
  },
  {
   "cell_type": "code",
   "execution_count": 138,
   "id": "bfe16141",
   "metadata": {},
   "outputs": [],
   "source": [
    "#Aşağıdaki liste set'e çevirilince hangi değerler içinde kalacaktır?"
   ]
  },
  {
   "cell_type": "code",
   "execution_count": 139,
   "id": "047604cb",
   "metadata": {},
   "outputs": [],
   "source": [
    "my_list_to_be_set = [11,12,22,33,11,22,45,32,21,22,33,45]"
   ]
  },
  {
   "cell_type": "code",
   "execution_count": 140,
   "id": "9fb352d4",
   "metadata": {},
   "outputs": [],
   "source": [
    "#Tekrar etmeyen değerler ve tekrar edenlerden bir tane"
   ]
  },
  {
   "cell_type": "code",
   "execution_count": 141,
   "id": "986f5f21",
   "metadata": {},
   "outputs": [],
   "source": [
    "#Yani 11,12,22,33,45,32,21 "
   ]
  },
  {
   "cell_type": "code",
   "execution_count": 142,
   "id": "4259845c",
   "metadata": {},
   "outputs": [
    {
     "data": {
      "text/plain": [
       "{11, 12, 21, 22, 32, 33, 45}"
      ]
     },
     "execution_count": 142,
     "metadata": {},
     "output_type": "execute_result"
    }
   ],
   "source": [
    "set(my_list_to_be_set)"
   ]
  },
  {
   "cell_type": "markdown",
   "id": "a4fc9b39",
   "metadata": {},
   "source": [
    "# Boolean"
   ]
  },
  {
   "cell_type": "code",
   "execution_count": 143,
   "id": "4950d930",
   "metadata": {},
   "outputs": [],
   "source": [
    "x = 40 * 5 +3"
   ]
  },
  {
   "cell_type": "code",
   "execution_count": 144,
   "id": "f4d7d4b7",
   "metadata": {},
   "outputs": [],
   "source": [
    "y = 208 - 2 * 4"
   ]
  },
  {
   "cell_type": "code",
   "execution_count": 145,
   "id": "f50a2030",
   "metadata": {},
   "outputs": [],
   "source": [
    "# x = 203 oldu ve y = 200 oldu"
   ]
  },
  {
   "cell_type": "code",
   "execution_count": 146,
   "id": "a4ec3396",
   "metadata": {},
   "outputs": [],
   "source": [
    "# x > y ifadesinin sonucu ne olacaktır"
   ]
  },
  {
   "cell_type": "code",
   "execution_count": 147,
   "id": "13e3a932",
   "metadata": {},
   "outputs": [],
   "source": [
    "#True"
   ]
  },
  {
   "cell_type": "code",
   "execution_count": 148,
   "id": "084e39ca",
   "metadata": {},
   "outputs": [
    {
     "data": {
      "text/plain": [
       "True"
      ]
     },
     "execution_count": 148,
     "metadata": {},
     "output_type": "execute_result"
    }
   ],
   "source": [
    "x > y"
   ]
  },
  {
   "cell_type": "code",
   "execution_count": 149,
   "id": "6e991c4c",
   "metadata": {},
   "outputs": [],
   "source": [
    "# 2) Aşağıdaki ifadenin sonucu ne olacaktır?"
   ]
  },
  {
   "cell_type": "code",
   "execution_count": 150,
   "id": "2e1f7698",
   "metadata": {},
   "outputs": [],
   "source": [
    "a = 40 * (4 - 2)"
   ]
  },
  {
   "cell_type": "code",
   "execution_count": 151,
   "id": "4ab35ef7",
   "metadata": {},
   "outputs": [],
   "source": [
    "b = 80 - 2 * -5"
   ]
  },
  {
   "cell_type": "markdown",
   "id": "47c363a6",
   "metadata": {},
   "source": [
    "a > b"
   ]
  },
  {
   "cell_type": "code",
   "execution_count": 152,
   "id": "14f5e786",
   "metadata": {},
   "outputs": [],
   "source": [
    "#a = 80 b = 90"
   ]
  },
  {
   "cell_type": "code",
   "execution_count": 153,
   "id": "9cefacd8",
   "metadata": {},
   "outputs": [],
   "source": [
    "#Cevap False"
   ]
  },
  {
   "cell_type": "code",
   "execution_count": 154,
   "id": "695ecedb",
   "metadata": {},
   "outputs": [
    {
     "data": {
      "text/plain": [
       "False"
      ]
     },
     "execution_count": 154,
     "metadata": {},
     "output_type": "execute_result"
    }
   ],
   "source": [
    "a > b"
   ]
  }
 ],
 "metadata": {
  "kernelspec": {
   "display_name": "Python 3 (ipykernel)",
   "language": "python",
   "name": "python3"
  },
  "language_info": {
   "codemirror_mode": {
    "name": "ipython",
    "version": 3
   },
   "file_extension": ".py",
   "mimetype": "text/x-python",
   "name": "python",
   "nbconvert_exporter": "python",
   "pygments_lexer": "ipython3",
   "version": "3.9.13"
  }
 },
 "nbformat": 4,
 "nbformat_minor": 5
}
