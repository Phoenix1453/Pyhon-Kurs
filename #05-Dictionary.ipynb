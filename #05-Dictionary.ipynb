{
 "cells": [
  {
   "cell_type": "code",
   "execution_count": 1,
   "id": "1f206176",
   "metadata": {},
   "outputs": [],
   "source": [
    "my_dictionary = {\"key\":\"value\"}"
   ]
  },
  {
   "cell_type": "code",
   "execution_count": 6,
   "id": "55fe9c50",
   "metadata": {},
   "outputs": [
    {
     "data": {
      "text/plain": [
       "'value'"
      ]
     },
     "execution_count": 6,
     "metadata": {},
     "output_type": "execute_result"
    }
   ],
   "source": [
    "my_dictionary[\"key\"]"
   ]
  },
  {
   "cell_type": "code",
   "execution_count": 7,
   "id": "4c375365",
   "metadata": {},
   "outputs": [],
   "source": [
    "sports = {\"run\":100,\"swim\":200}"
   ]
  },
  {
   "cell_type": "code",
   "execution_count": 9,
   "id": "215f1b81",
   "metadata": {},
   "outputs": [
    {
     "data": {
      "text/plain": [
       "100"
      ]
     },
     "execution_count": 9,
     "metadata": {},
     "output_type": "execute_result"
    }
   ],
   "source": [
    "sports[\"run\"]"
   ]
  },
  {
   "cell_type": "code",
   "execution_count": 11,
   "id": "f4162478",
   "metadata": {},
   "outputs": [
    {
     "data": {
      "text/plain": [
       "200"
      ]
     },
     "execution_count": 11,
     "metadata": {},
     "output_type": "execute_result"
    }
   ],
   "source": [
    "sports[\"swim\"]"
   ]
  },
  {
   "cell_type": "code",
   "execution_count": 12,
   "id": "916d53e3",
   "metadata": {},
   "outputs": [],
   "source": [
    "my_dictionary_2 = {\"key1\":1,\"key2\":2,\"key3\":\"apple\"}"
   ]
  },
  {
   "cell_type": "code",
   "execution_count": 13,
   "id": "2c248bb3",
   "metadata": {},
   "outputs": [
    {
     "data": {
      "text/plain": [
       "1"
      ]
     },
     "execution_count": 13,
     "metadata": {},
     "output_type": "execute_result"
    }
   ],
   "source": [
    "my_dictionary_2[\"key1\"]"
   ]
  },
  {
   "cell_type": "code",
   "execution_count": 14,
   "id": "66dcfbb0",
   "metadata": {},
   "outputs": [
    {
     "data": {
      "text/plain": [
       "'apple'"
      ]
     },
     "execution_count": 14,
     "metadata": {},
     "output_type": "execute_result"
    }
   ],
   "source": [
    "my_dictionary_2[\"key3\"]"
   ]
  },
  {
   "cell_type": "code",
   "execution_count": 19,
   "id": "d1fc4c55",
   "metadata": {},
   "outputs": [],
   "source": [
    " my_dictionary_3 = {\"key1\":10,20:30} #key2 yerine direkt 20 deyip onu 30 olarak tanımladık"
   ]
  },
  {
   "cell_type": "code",
   "execution_count": 16,
   "id": "cb9453f8",
   "metadata": {},
   "outputs": [
    {
     "data": {
      "text/plain": [
       "30"
      ]
     },
     "execution_count": 16,
     "metadata": {},
     "output_type": "execute_result"
    }
   ],
   "source": [
    "my_dictionary_3[20]"
   ]
  },
  {
   "cell_type": "code",
   "execution_count": 20,
   "id": "6dad2bfa",
   "metadata": {},
   "outputs": [
    {
     "data": {
      "text/plain": [
       "10"
      ]
     },
     "execution_count": 20,
     "metadata": {},
     "output_type": "execute_result"
    }
   ],
   "source": [
    "my_dictionary_3[\"key1\"]"
   ]
  },
  {
   "cell_type": "code",
   "execution_count": 21,
   "id": "aca018f8",
   "metadata": {},
   "outputs": [],
   "source": [
    "my_dictionary_4 = {\"key1\":100,\"key2\": [50,60,70], \"key3\": {\"a\":5}}"
   ]
  },
  {
   "cell_type": "code",
   "execution_count": 23,
   "id": "bbf14ff9",
   "metadata": {},
   "outputs": [
    {
     "data": {
      "text/plain": [
       "dict_keys(['key1', 'key2', 'key3'])"
      ]
     },
     "execution_count": 23,
     "metadata": {},
     "output_type": "execute_result"
    }
   ],
   "source": [
    "my_dictionary_4.keys() #diyerek sözlükteki key ler görüntülenebilir"
   ]
  },
  {
   "cell_type": "code",
   "execution_count": 24,
   "id": "7f080622",
   "metadata": {},
   "outputs": [
    {
     "data": {
      "text/plain": [
       "dict_values([100, [50, 60, 70], {'a': 5}])"
      ]
     },
     "execution_count": 24,
     "metadata": {},
     "output_type": "execute_result"
    }
   ],
   "source": [
    "my_dictionary_4.values()"
   ]
  },
  {
   "cell_type": "code",
   "execution_count": 27,
   "id": "b48830d3",
   "metadata": {},
   "outputs": [
    {
     "data": {
      "text/plain": [
       "5"
      ]
     },
     "execution_count": 27,
     "metadata": {},
     "output_type": "execute_result"
    }
   ],
   "source": [
    "my_dictionary_4[\"key3\"][\"a\"]"
   ]
  },
  {
   "cell_type": "code",
   "execution_count": 28,
   "id": "26ae3993",
   "metadata": {},
   "outputs": [],
   "source": [
    "my_dictionary_5 = {\"k1\":1,\"k2\":2}"
   ]
  },
  {
   "cell_type": "code",
   "execution_count": 29,
   "id": "ad93b595",
   "metadata": {},
   "outputs": [],
   "source": [
    "my_dictionary_5[\"k1\"] = 5"
   ]
  },
  {
   "cell_type": "code",
   "execution_count": 30,
   "id": "bb71efea",
   "metadata": {},
   "outputs": [
    {
     "data": {
      "text/plain": [
       "{'k1': 5, 'k2': 2}"
      ]
     },
     "execution_count": 30,
     "metadata": {},
     "output_type": "execute_result"
    }
   ],
   "source": [
    "my_dictionary_5"
   ]
  },
  {
   "cell_type": "code",
   "execution_count": 31,
   "id": "3ef03e07",
   "metadata": {},
   "outputs": [],
   "source": [
    "my_dictionary_5[\"k3\"] = 7"
   ]
  },
  {
   "cell_type": "code",
   "execution_count": 32,
   "id": "55c2c917",
   "metadata": {},
   "outputs": [
    {
     "data": {
      "text/plain": [
       "{'k1': 5, 'k2': 2, 'k3': 7}"
      ]
     },
     "execution_count": 32,
     "metadata": {},
     "output_type": "execute_result"
    }
   ],
   "source": [
    "my_dictionary_5"
   ]
  }
 ],
 "metadata": {
  "kernelspec": {
   "display_name": "Python 3 (ipykernel)",
   "language": "python",
   "name": "python3"
  },
  "language_info": {
   "codemirror_mode": {
    "name": "ipython",
    "version": 3
   },
   "file_extension": ".py",
   "mimetype": "text/x-python",
   "name": "python",
   "nbconvert_exporter": "python",
   "pygments_lexer": "ipython3",
   "version": "3.9.13"
  }
 },
 "nbformat": 4,
 "nbformat_minor": 5
}
