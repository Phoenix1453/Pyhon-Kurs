{
 "cells": [
  {
   "cell_type": "markdown",
   "id": "40fd154d",
   "metadata": {},
   "source": [
    "# Variables# "
   ]
  },
  {
   "cell_type": "code",
   "execution_count": 2,
   "id": "1b7361ed",
   "metadata": {},
   "outputs": [
    {
     "data": {
      "text/plain": [
       "bool"
      ]
     },
     "execution_count": 2,
     "metadata": {},
     "output_type": "execute_result"
    }
   ],
   "source": [
    "type(False)"
   ]
  },
  {
   "cell_type": "code",
   "execution_count": 3,
   "id": "0492d382",
   "metadata": {},
   "outputs": [
    {
     "name": "stdout",
     "output_type": "stream",
     "text": [
      "Yaz : 6\n"
     ]
    }
   ],
   "source": [
    " y = input(\"Yaz : \")"
   ]
  },
  {
   "cell_type": "code",
   "execution_count": 4,
   "id": "33a2eb1e",
   "metadata": {},
   "outputs": [],
   "source": [
    "x = 5\n"
   ]
  },
  {
   "cell_type": "code",
   "execution_count": 6,
   "id": "ae150a95",
   "metadata": {},
   "outputs": [
    {
     "data": {
      "text/plain": [
       "str"
      ]
     },
     "execution_count": 6,
     "metadata": {},
     "output_type": "execute_result"
    }
   ],
   "source": [
    "type(y)"
   ]
  },
  {
   "cell_type": "code",
   "execution_count": 7,
   "id": "81e2fd53",
   "metadata": {},
   "outputs": [],
   "source": [
    "z = int(y)"
   ]
  },
  {
   "cell_type": "code",
   "execution_count": 8,
   "id": "08d58d74",
   "metadata": {},
   "outputs": [
    {
     "data": {
      "text/plain": [
       "int"
      ]
     },
     "execution_count": 8,
     "metadata": {},
     "output_type": "execute_result"
    }
   ],
   "source": [
    "type (z)"
   ]
  },
  {
   "cell_type": "code",
   "execution_count": 10,
   "id": "e3e7bcbb",
   "metadata": {},
   "outputs": [
    {
     "name": "stdout",
     "output_type": "stream",
     "text": [
      "6\n"
     ]
    }
   ],
   "source": [
    "print(z)"
   ]
  },
  {
   "cell_type": "code",
   "execution_count": 11,
   "id": "6839ca84",
   "metadata": {},
   "outputs": [
    {
     "data": {
      "text/plain": [
       "30"
      ]
     },
     "execution_count": 11,
     "metadata": {},
     "output_type": "execute_result"
    }
   ],
   "source": [
    "z*x\n"
   ]
  },
  {
   "cell_type": "code",
   "execution_count": 13,
   "id": "c1c39506",
   "metadata": {},
   "outputs": [
    {
     "data": {
      "text/plain": [
       "'Merhaba'"
      ]
     },
     "execution_count": 13,
     "metadata": {},
     "output_type": "execute_result"
    }
   ],
   "source": [
    " \"Merhaba\"\n",
    "    \n",
    "    "
   ]
  },
  {
   "cell_type": "code",
   "execution_count": 1,
   "id": "815743d6",
   "metadata": {},
   "outputs": [
    {
     "name": "stdout",
     "output_type": "stream",
     "text": [
      "Deneme\n"
     ]
    }
   ],
   "source": [
    "print(\"Deneme\")"
   ]
  },
  {
   "cell_type": "markdown",
   "id": "49f6bd00",
   "metadata": {},
   "source": [
    "#İndexing\n"
   ]
  },
  {
   "cell_type": "code",
   "execution_count": 2,
   "id": "4929ef89",
   "metadata": {},
   "outputs": [],
   "source": [
    "ddlc = \"Monika\""
   ]
  },
  {
   "cell_type": "code",
   "execution_count": 3,
   "id": "56c949ce",
   "metadata": {},
   "outputs": [
    {
     "data": {
      "text/plain": [
       "'M'"
      ]
     },
     "execution_count": 3,
     "metadata": {},
     "output_type": "execute_result"
    }
   ],
   "source": [
    "ddlc[0]"
   ]
  },
  {
   "cell_type": "markdown",
   "id": "7a5caae7",
   "metadata": {},
   "source": [
    "["
   ]
  },
  {
   "cell_type": "code",
   "execution_count": 4,
   "id": "28510f14",
   "metadata": {},
   "outputs": [],
   "source": [
    "liste = \"1234567890\""
   ]
  },
  {
   "cell_type": "code",
   "execution_count": 5,
   "id": "3b4bed0e",
   "metadata": {},
   "outputs": [
    {
     "data": {
      "text/plain": [
       "'1'"
      ]
     },
     "execution_count": 5,
     "metadata": {},
     "output_type": "execute_result"
    }
   ],
   "source": [
    "liste[0]"
   ]
  },
  {
   "cell_type": "code",
   "execution_count": 6,
   "id": "80f7026b",
   "metadata": {},
   "outputs": [
    {
     "data": {
      "text/plain": [
       "'34567890'"
      ]
     },
     "execution_count": 6,
     "metadata": {},
     "output_type": "execute_result"
    }
   ],
   "source": [
    "liste[2:]"
   ]
  },
  {
   "cell_type": "code",
   "execution_count": 8,
   "id": "05bcee7b",
   "metadata": {},
   "outputs": [
    {
     "data": {
      "text/plain": [
       "'12'"
      ]
     },
     "execution_count": 8,
     "metadata": {},
     "output_type": "execute_result"
    }
   ],
   "source": [
    "liste[:2]"
   ]
  },
  {
   "cell_type": "code",
   "execution_count": 9,
   "id": "cd316bd8",
   "metadata": {},
   "outputs": [
    {
     "data": {
      "text/plain": [
       "'123'"
      ]
     },
     "execution_count": 9,
     "metadata": {},
     "output_type": "execute_result"
    }
   ],
   "source": [
    "liste[:3:]"
   ]
  },
  {
   "cell_type": "code",
   "execution_count": 10,
   "id": "f4cc8c93",
   "metadata": {},
   "outputs": [
    {
     "data": {
      "text/plain": [
       "'34'"
      ]
     },
     "execution_count": 10,
     "metadata": {},
     "output_type": "execute_result"
    }
   ],
   "source": [
    "liste[2:4]"
   ]
  },
  {
   "cell_type": "code",
   "execution_count": 11,
   "id": "c1f10914",
   "metadata": {},
   "outputs": [
    {
     "data": {
      "text/plain": [
       "'1470'"
      ]
     },
     "execution_count": 11,
     "metadata": {},
     "output_type": "execute_result"
    }
   ],
   "source": [
    "liste[::3]"
   ]
  },
  {
   "cell_type": "code",
   "execution_count": 12,
   "id": "72a6a3f8",
   "metadata": {},
   "outputs": [
    {
     "data": {
      "text/plain": [
       "'3'"
      ]
     },
     "execution_count": 12,
     "metadata": {},
     "output_type": "execute_result"
    }
   ],
   "source": [
    "liste[2:4:3]"
   ]
  },
  {
   "cell_type": "code",
   "execution_count": 13,
   "id": "8b484cd3",
   "metadata": {},
   "outputs": [
    {
     "data": {
      "text/plain": [
       "'0987654321'"
      ]
     },
     "execution_count": 13,
     "metadata": {},
     "output_type": "execute_result"
    }
   ],
   "source": [
    "liste[::-1]"
   ]
  },
  {
   "cell_type": "code",
   "execution_count": 15,
   "id": "43e8cd5b",
   "metadata": {},
   "outputs": [],
   "source": [
    "test = \"muvaffakiyetsizleştiricileştiriveremeyebileceklerimizdenmişsinizcesine\""
   ]
  },
  {
   "cell_type": "code",
   "execution_count": 16,
   "id": "1f9dbdcb",
   "metadata": {},
   "outputs": [
    {
     "data": {
      "text/plain": [
       "'m'"
      ]
     },
     "execution_count": 16,
     "metadata": {},
     "output_type": "execute_result"
    }
   ],
   "source": [
    "test[0]"
   ]
  },
  {
   "cell_type": "code",
   "execution_count": 17,
   "id": "aa4d47c8",
   "metadata": {},
   "outputs": [
    {
     "data": {
      "text/plain": [
       "'a'"
      ]
     },
     "execution_count": 17,
     "metadata": {},
     "output_type": "execute_result"
    }
   ],
   "source": [
    "test[6]"
   ]
  },
  {
   "cell_type": "code",
   "execution_count": 18,
   "id": "205d2e3f",
   "metadata": {},
   "outputs": [
    {
     "data": {
      "text/plain": [
       "'vaffakiyetsizleştiricileştiriveremeyebileceklerimizdenmişsinizcesine'"
      ]
     },
     "execution_count": 18,
     "metadata": {},
     "output_type": "execute_result"
    }
   ],
   "source": [
    "test[2:]"
   ]
  },
  {
   "cell_type": "code",
   "execution_count": 19,
   "id": "4ce2c2d3",
   "metadata": {},
   "outputs": [
    {
     "data": {
      "text/plain": [
       "'mu'"
      ]
     },
     "execution_count": 19,
     "metadata": {},
     "output_type": "execute_result"
    }
   ],
   "source": [
    "test[:2]"
   ]
  },
  {
   "cell_type": "code",
   "execution_count": 20,
   "id": "4f8c3c89",
   "metadata": {},
   "outputs": [
    {
     "data": {
      "text/plain": [
       "'maaysltiltirebekrieiizse'"
      ]
     },
     "execution_count": 20,
     "metadata": {},
     "output_type": "execute_result"
    }
   ],
   "source": [
    "test[::3]"
   ]
  },
  {
   "cell_type": "code",
   "execution_count": 21,
   "id": "0e840f60",
   "metadata": {},
   "outputs": [
    {
     "data": {
      "text/plain": [
       "'ştiricil'"
      ]
     },
     "execution_count": 21,
     "metadata": {},
     "output_type": "execute_result"
    }
   ],
   "source": [
    "test[17:25]"
   ]
  },
  {
   "cell_type": "code",
   "execution_count": 22,
   "id": "61cfe044",
   "metadata": {},
   "outputs": [
    {
     "data": {
      "text/plain": [
       "'iiiet'"
      ]
     },
     "execution_count": 22,
     "metadata": {},
     "output_type": "execute_result"
    }
   ],
   "source": [
    "test[19:29:2]"
   ]
  },
  {
   "cell_type": "code",
   "execution_count": null,
   "id": "8c8b1a96",
   "metadata": {},
   "outputs": [],
   "source": []
  }
 ],
 "metadata": {
  "kernelspec": {
   "display_name": "Python 3 (ipykernel)",
   "language": "python",
   "name": "python3"
  },
  "language_info": {
   "codemirror_mode": {
    "name": "ipython",
    "version": 3
   },
   "file_extension": ".py",
   "mimetype": "text/x-python",
   "name": "python",
   "nbconvert_exporter": "python",
   "pygments_lexer": "ipython3",
   "version": "3.9.13"
  }
 },
 "nbformat": 4,
 "nbformat_minor": 5
}
