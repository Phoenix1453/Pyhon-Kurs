{
 "cells": [
  {
   "cell_type": "code",
   "execution_count": 15,
   "id": "e6b6dd08",
   "metadata": {},
   "outputs": [],
   "source": [
    "my_list = [1,2,3,4,5]"
   ]
  },
  {
   "cell_type": "code",
   "execution_count": 16,
   "id": "4f2ec44a",
   "metadata": {},
   "outputs": [
    {
     "name": "stdout",
     "output_type": "stream",
     "text": [
      "Just Monika\n",
      "Just Monika\n",
      "Just Monika\n",
      "Just Monika\n",
      "Just Monika\n"
     ]
    }
   ],
   "source": [
    "for number in my_list: #Listedeki her bir elemanı alığ number isimli değişkene atadı\n",
    "    print(\"Just Monika\")"
   ]
  },
  {
   "cell_type": "markdown",
   "id": "307f885c",
   "metadata": {},
   "source": [
    "5 tane yazdı çünkü listede 5 tane numara yani dolayısıyla 5 tane\n",
    "number değişkeni var"
   ]
  },
  {
   "cell_type": "code",
   "execution_count": 17,
   "id": "7d71edae",
   "metadata": {},
   "outputs": [
    {
     "name": "stdout",
     "output_type": "stream",
     "text": [
      "1\n",
      "2\n",
      "3\n",
      "4\n",
      "5\n"
     ]
    }
   ],
   "source": [
    "for number in my_list:\n",
    "    print(number)"
   ]
  },
  {
   "cell_type": "code",
   "execution_count": 18,
   "id": "766f3747",
   "metadata": {},
   "outputs": [
    {
     "name": "stdout",
     "output_type": "stream",
     "text": [
      "2\n",
      "4\n",
      "6\n",
      "8\n",
      "10\n"
     ]
    }
   ],
   "source": [
    "for item in my_list:\n",
    "    new_number = item * 2\n",
    "    print(new_number)"
   ]
  },
  {
   "cell_type": "code",
   "execution_count": 31,
   "id": "4de93768",
   "metadata": {},
   "outputs": [
    {
     "name": "stdout",
     "output_type": "stream",
     "text": [
      "2\n",
      "4\n"
     ]
    }
   ],
   "source": [
    "for number in my_list:\n",
    "    if number % 2 == 0: #2 ye bölününce sıfır kalanları listeledi\n",
    "        print(number)"
   ]
  },
  {
   "cell_type": "code",
   "execution_count": 36,
   "id": "227ff045",
   "metadata": {},
   "outputs": [
    {
     "name": "stdout",
     "output_type": "stream",
     "text": [
      "Listede bu eleman var\n"
     ]
    }
   ],
   "source": [
    "for num in my_list:\n",
    "    if num == 2:\n",
    "        print(\"Listede bu eleman var\")"
   ]
  },
  {
   "cell_type": "code",
   "execution_count": 37,
   "id": "dc082782",
   "metadata": {},
   "outputs": [],
   "source": [
    "string= \"Monika\""
   ]
  },
  {
   "cell_type": "code",
   "execution_count": 39,
   "id": "29f2c64e",
   "metadata": {},
   "outputs": [
    {
     "name": "stdout",
     "output_type": "stream",
     "text": [
      "M\n",
      "o\n",
      "n\n",
      "i\n",
      "k\n",
      "a\n"
     ]
    }
   ],
   "source": [
    "for letter in string:\n",
    "    print(letter)"
   ]
  },
  {
   "cell_type": "code",
   "execution_count": 40,
   "id": "0198ccb7",
   "metadata": {},
   "outputs": [],
   "source": [
    "tup = (1,2,3,4)"
   ]
  },
  {
   "cell_type": "code",
   "execution_count": 41,
   "id": "b0360c4b",
   "metadata": {},
   "outputs": [
    {
     "data": {
      "text/plain": [
       "tuple"
      ]
     },
     "execution_count": 41,
     "metadata": {},
     "output_type": "execute_result"
    }
   ],
   "source": [
    "type(tup)"
   ]
  },
  {
   "cell_type": "code",
   "execution_count": 52,
   "id": "b229c783",
   "metadata": {},
   "outputs": [
    {
     "name": "stdout",
     "output_type": "stream",
     "text": [
      "41\n",
      "44\n",
      "49\n",
      "56\n"
     ]
    }
   ],
   "source": [
    "for t in tup:\n",
    "    print(t**2-10+50)"
   ]
  },
  {
   "cell_type": "code",
   "execution_count": 54,
   "id": "a022d98f",
   "metadata": {},
   "outputs": [],
   "source": [
    "new = [(\"a\",\"b\"),(\"c\",\"d\"),(\"e\",\"f\"),(\"g\",\"h\")]"
   ]
  },
  {
   "cell_type": "code",
   "execution_count": 55,
   "id": "c8d809fa",
   "metadata": {},
   "outputs": [
    {
     "name": "stdout",
     "output_type": "stream",
     "text": [
      "('a', 'b')\n",
      "('c', 'd')\n",
      "('e', 'f')\n",
      "('g', 'h')\n"
     ]
    }
   ],
   "source": [
    "for element in new:\n",
    "    print(element)"
   ]
  },
  {
   "cell_type": "code",
   "execution_count": 57,
   "id": "5f6391cd",
   "metadata": {},
   "outputs": [
    {
     "name": "stdout",
     "output_type": "stream",
     "text": [
      "('a', 'b')\n",
      "('c', 'd')\n",
      "('e', 'f')\n",
      "('g', 'h')\n"
     ]
    }
   ],
   "source": [
    "for (x,y) in new:\n",
    "    print((x,y))"
   ]
  },
  {
   "cell_type": "code",
   "execution_count": 59,
   "id": "395b9c85",
   "metadata": {},
   "outputs": [
    {
     "name": "stdout",
     "output_type": "stream",
     "text": [
      "a\n",
      "c\n",
      "e\n",
      "g\n"
     ]
    }
   ],
   "source": [
    "for (x,y) in new:\n",
    "    print(x)"
   ]
  },
  {
   "cell_type": "code",
   "execution_count": 61,
   "id": "c931cae7",
   "metadata": {},
   "outputs": [],
   "source": [
    "tuple_list = [(0,1,2),(3,4,5),(6,7,8)]"
   ]
  },
  {
   "cell_type": "code",
   "execution_count": 72,
   "id": "d1cfb9e5",
   "metadata": {},
   "outputs": [
    {
     "name": "stdout",
     "output_type": "stream",
     "text": [
      "2\n",
      "5\n",
      "8\n"
     ]
    }
   ],
   "source": [
    "for (x,y,z) in tuple_list:\n",
    "    print(z) # x,y,z demek ile (x,y,z) aynı şey ikisi de çalışır"
   ]
  },
  {
   "cell_type": "code",
   "execution_count": 63,
   "id": "fdc771d0",
   "metadata": {},
   "outputs": [],
   "source": [
    "my_dict = {\"k1\":250,\"k2\":300,\"k3\":450,\"k4\":750}"
   ]
  },
  {
   "cell_type": "code",
   "execution_count": 64,
   "id": "aa5dfc2f",
   "metadata": {},
   "outputs": [
    {
     "data": {
      "text/plain": [
       "dict_items([('k1', 250), ('k2', 300), ('k3', 450), ('k4', 750)])"
      ]
     },
     "execution_count": 64,
     "metadata": {},
     "output_type": "execute_result"
    }
   ],
   "source": [
    "my_dict.items()"
   ]
  },
  {
   "cell_type": "code",
   "execution_count": 71,
   "id": "5c0c589f",
   "metadata": {},
   "outputs": [
    {
     "name": "stdout",
     "output_type": "stream",
     "text": [
      "250\n",
      "300\n",
      "450\n",
      "750\n"
     ]
    }
   ],
   "source": [
    "for (key,value) in my_dict.items():\n",
    "    print(value)"
   ]
  },
  {
   "cell_type": "code",
   "execution_count": null,
   "id": "27b88804",
   "metadata": {},
   "outputs": [],
   "source": []
  }
 ],
 "metadata": {
  "kernelspec": {
   "display_name": "Python 3 (ipykernel)",
   "language": "python",
   "name": "python3"
  },
  "language_info": {
   "codemirror_mode": {
    "name": "ipython",
    "version": 3
   },
   "file_extension": ".py",
   "mimetype": "text/x-python",
   "name": "python",
   "nbconvert_exporter": "python",
   "pygments_lexer": "ipython3",
   "version": "3.9.13"
  }
 },
 "nbformat": 4,
 "nbformat_minor": 5
}
