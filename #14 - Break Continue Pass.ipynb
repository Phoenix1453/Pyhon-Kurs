{
 "cells": [
  {
   "cell_type": "code",
   "execution_count": 1,
   "id": "266a992f",
   "metadata": {},
   "outputs": [],
   "source": [
    "liste = [10,20,30,40,50,60]"
   ]
  },
  {
   "cell_type": "code",
   "execution_count": 4,
   "id": "40f64103",
   "metadata": {},
   "outputs": [
    {
     "name": "stdout",
     "output_type": "stream",
     "text": [
      "50\n",
      "100\n",
      "150\n",
      "200\n",
      "250\n",
      "300\n"
     ]
    }
   ],
   "source": [
    "for number in liste:\n",
    "    print(number * 5)"
   ]
  },
  {
   "cell_type": "code",
   "execution_count": 7,
   "id": "3c219c7f",
   "metadata": {},
   "outputs": [
    {
     "name": "stdout",
     "output_type": "stream",
     "text": [
      "40\n"
     ]
    }
   ],
   "source": [
    "for num in liste:\n",
    "    if num==20:\n",
    "        break #20'ye gelince durdu\n",
    "    print(num * 4)\n"
   ]
  },
  {
   "cell_type": "code",
   "execution_count": 9,
   "id": "1bdcd6df",
   "metadata": {},
   "outputs": [
    {
     "name": "stdout",
     "output_type": "stream",
     "text": [
      "10\n",
      "20\n",
      "40\n",
      "50\n",
      "60\n"
     ]
    }
   ],
   "source": [
    "for item in liste:\n",
    "    if item==30:\n",
    "        continue #30'u atladık\n",
    "    print(item)"
   ]
  },
  {
   "cell_type": "code",
   "execution_count": 11,
   "id": "aaba093f",
   "metadata": {},
   "outputs": [],
   "source": [
    "for no in liste:\n",
    "    pass #Ne yapacağına daha karar vermediğin zaman hata mesajı almamak için kullanılır"
   ]
  }
 ],
 "metadata": {
  "kernelspec": {
   "display_name": "Python 3 (ipykernel)",
   "language": "python",
   "name": "python3"
  },
  "language_info": {
   "codemirror_mode": {
    "name": "ipython",
    "version": 3
   },
   "file_extension": ".py",
   "mimetype": "text/x-python",
   "name": "python",
   "nbconvert_exporter": "python",
   "pygments_lexer": "ipython3",
   "version": "3.9.13"
  }
 },
 "nbformat": 4,
 "nbformat_minor": 5
}
