{
 "cells": [
  {
   "cell_type": "code",
   "execution_count": null,
   "id": "9d5a8ec9",
   "metadata": {},
   "outputs": [],
   "source": [
    "import time\n",
    "\n",
    "userid = str(input(\" Hesap makinesine erişmek için kimliğini doğrulamamız gerek. Lütfen kullanıcı id ni gir : \"))\n",
    "\n",
    "if userid == \"62442\":\n",
    "    print(\"ID doğrulandı... Hoşgeldin Serhat\")\n",
    "    time.sleep(1)\n",
    "    print(\"Hesap makinesi başlatılıyor..\")\n",
    "    time.sleep(2)\n",
    "    a = int(input(\"Bir sayı giriniz: \"))\n",
    "    b = int(input(\"Yeni bir sayı  giriniz: \"))\n",
    "\n",
    "    print(\" / işaretiyle bölme \\n * işaretiyle çarpma \\n - işaretiyle çıkarma \\n + işaretiyle toplama yapabilirsin.\")\n",
    "    time.sleep(2)\n",
    "    islem = str(input(\"Yapmak istediğiniz işlemi seçin(/,*,-,+) : \"))\n",
    "\n",
    "    if islem == \"/\":\n",
    "        print(\"Sonuç : \",a/b)\n",
    "\n",
    "    elif islem == \"*\":\n",
    "        print(\"Sonuç : \",a*b)\n",
    "\n",
    "    elif islem == \"-\":\n",
    "        print(\"Sonuç : \",a-b)\n",
    "\n",
    "    elif islem == \"+\":\n",
    "        print(\"Sonuç : \",a+b)\n",
    "\n",
    "    else:\n",
    "        print(\"Lütfen geçerli bir işlem yazınız.\")\n",
    "\n",
    "    print(\"Başka işlemlerde görüşmek üzere...\")\n",
    "    \n",
    "else:\n",
    "    print(\"Geçersiz ID...\")"
   ]
  },
  {
   "cell_type": "code",
   "execution_count": null,
   "id": "cdf27321",
   "metadata": {},
   "outputs": [],
   "source": [
    "import time\n",
    "\n",
    "userid = str(input(\" Hesap makinesine erişmek için kimliğini doğrulamamız gerek. Lütfen kullanıcı id ni gir : \"))\n",
    "\n",
    "if userid == \"62442\":\n",
    "    print(\"ID doğrulandı... Hoşgeldin Serhat\")\n",
    "    time.sleep(1)\n",
    "    print(\"Hesap makinesi başlatılıyor..\")\n",
    "    time.sleep(2)\n",
    "    a = int(input(\"Bir sayı giriniz: \"))\n",
    "    b = int(input(\"Yeni bir sayı  giriniz: \"))\n",
    "\n",
    "    print(\" / işaretiyle bölme \\n * işaretiyle çarpma \\n - işaretiyle çıkarma \\n + işaretiyle toplama yapabilirsin.\")\n",
    "    time.sleep(2)\n",
    "    islem = str(input(\"Yapmak istediğiniz işlemi seçin(/,*,-,+) : \"))\n",
    "\n",
    "    if islem == \"/\":\n",
    "        print(\"Sonuç : \",a/b)\n",
    "\n",
    "    elif islem == \"*\":\n",
    "        print(\"Sonuç : \",a*b)\n",
    "\n",
    "    elif islem == \"-\":\n",
    "        print(\"Sonuç : \",a-b)\n",
    "\n",
    "    elif islem == \"+\":\n",
    "        print(\"Sonuç : \",a+b)\n",
    "\n",
    "    else:\n",
    "        print(\"Lütfen geçerli bir işlem yazınız.\")\n",
    "\n",
    "    print(\"Başka işlemlerde görüşmek üzere...\")\n",
    "    \n",
    "else:\n",
    "    print(\"Geçersiz ID...\")"
   ]
  },
  {
   "cell_type": "code",
   "execution_count": null,
   "id": "ec2b7659",
   "metadata": {},
   "outputs": [],
   "source": [
    "\n",
    "\n"
   ]
  },
  {
   "cell_type": "code",
   "execution_count": null,
   "id": "2800c5c0",
   "metadata": {},
   "outputs": [],
   "source": []
  }
 ],
 "metadata": {
  "kernelspec": {
   "display_name": "Python 3 (ipykernel)",
   "language": "python",
   "name": "python3"
  },
  "language_info": {
   "codemirror_mode": {
    "name": "ipython",
    "version": 3
   },
   "file_extension": ".py",
   "mimetype": "text/x-python",
   "name": "python",
   "nbconvert_exporter": "python",
   "pygments_lexer": "ipython3",
   "version": "3.9.13"
  }
 },
 "nbformat": 4,
 "nbformat_minor": 5
}
