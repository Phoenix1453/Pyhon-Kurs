{
 "cells": [
  {
   "cell_type": "code",
   "execution_count": 11,
   "id": "198da113",
   "metadata": {},
   "outputs": [
    {
     "name": "stdout",
     "output_type": "stream",
     "text": [
      "Boyunuzu giriniz (180 ise 1.8 olarak vs.) : 1.4\n",
      "Kilonuzu giriniz : 155\n",
      "Vücut Kitle İndeksiniz Hazırlanıyor...\n",
      "79.08163265306123\n",
      "Doktora görün...\n"
     ]
    }
   ],
   "source": [
    "import time as t\n",
    "\n",
    "b = float(input(\"Boyunuzu giriniz (180 ise 1.8 olarak vs.) : \"))\n",
    "k = int(input(\"Kilonuzu giriniz : \"))\n",
    "\n",
    "print(\"Vücut Kitle İndeksiniz Hazırlanıyor...\")\n",
    "t.sleep(2)\n",
    "VKİ = k/(b**2)\n",
    "\n",
    "print(VKİ)\n",
    "\n",
    "if VKİ < 18.49:\n",
    "    print(\"Kilo al kilo\")\n",
    "elif VKİ < 25:\n",
    "    print(\"Kal böyle\")\n",
    "elif VKİ < 30:\n",
    "    print(\"Birazcık kilo versen yeter\")\n",
    "elif VKİ > 30:\n",
    "    print(\"Doktora görün...\")"
   ]
  },
  {
   "cell_type": "code",
   "execution_count": 13,
   "id": "1578a212",
   "metadata": {},
   "outputs": [
    {
     "name": "stdout",
     "output_type": "stream",
     "text": [
      "İlk sayınızı giriniz : 59\n",
      "İkinci sayınızı giriniz : 75\n",
      "Yapacağınız işlemi yazınız : /\n",
      "0.7866666666666666\n"
     ]
    }
   ],
   "source": [
    "s = int(input(\"İlk sayınızı giriniz : \"))\n",
    "t = int(input(\"İkinci sayınızı giriniz : \"))\n",
    "\n",
    "islem = str(input(\"Yapacağınız işlemi yazınız : \"))\n",
    "\n",
    "if islem == \"*\":\n",
    "    print(s*t)\n",
    "elif islem == \"-\":\n",
    "    print(s-t)\n",
    "elif islem == \"+\":\n",
    "    print(s+t)\n",
    "elif islem == \"/\":\n",
    "    print(s/t)\n",
    "else:\n",
    "    print(\"Geçersiz İşlem...\")"
   ]
  },
  {
   "cell_type": "code",
   "execution_count": null,
   "id": "999208ab",
   "metadata": {},
   "outputs": [],
   "source": [
    "import time as t\n",
    "print(\"Sistem başlatılıyor...\")\n",
    "t.sleep(2)\n",
    "print(\"Hoşgeldin\")\n",
    "karar = str(input(\"VKİ hesaplayabilir ya da hesap makinesine giriş yapabilirsin \\n Hesap Makinesi için hm VKİ için vki yazar mısın : \"))\n",
    "\n",
    "if karar == \"hm\":\n",
    "    print(\"Hesap makinesi başlatılıyor\")\n",
    "    t.sleep(2)\n",
    "    s = int(input(\"İlk sayınızı giriniz : \"))\n",
    "    t = int(input(\"İkinci sayınızı giriniz : \"))\n",
    "\n",
    "    islem = str(input(\"Yapacağınız işlemi yazınız : \"))\n",
    "\n",
    "    if islem == \"*\":\n",
    "        print(s*t)\n",
    "    elif islem == \"-\":\n",
    "        print(s-t)\n",
    "    elif islem == \"+\":\n",
    "        print(s+t)\n",
    "    elif islem == \"/\":\n",
    "        print(s/t)\n",
    "    else:\n",
    "        print(\"Geçersiz İşlem...\")\n",
    "\n",
    "elif karar == \"vki\":\n",
    "    print(\"VKİ Hesaplama başlatılıyor...\")\n",
    "    t.sleep(2)\n",
    "    b = float(input(\"Boyunuzu giriniz (180 ise 1.8 olarak vs.) : \"))\n",
    "    k = int(input(\"Kilonuzu giriniz : \"))\n",
    "\n",
    "    print(\"Vücut Kitle İndeksiniz Hazırlanıyor...\")\n",
    "    t.sleep(2)\n",
    "    VKİ = k/(b**2)\n",
    "\n",
    "    print(VKİ)\n",
    "\n",
    "    if VKİ < 18.49:\n",
    "        print(\"Kilo al kilo\")\n",
    "    elif VKİ < 25:\n",
    "        print(\"Kal böyle\")\n",
    "    elif VKİ < 30:\n",
    "        print(\"Birazcık kilo versen yeter\")\n",
    "    elif VKİ > 30:\n",
    "        print(\"Doktora görün...\")\n",
    "        \n",
    "else:\n",
    "    print(\"Geçersiz Karar...\")"
   ]
  },
  {
   "cell_type": "code",
   "execution_count": null,
   "id": "ddbd6e70",
   "metadata": {},
   "outputs": [],
   "source": [
    "7\n",
    "\n",
    "\n"
   ]
  },
  {
   "cell_type": "code",
   "execution_count": null,
   "id": "208f4e11",
   "metadata": {},
   "outputs": [],
   "source": []
  },
  {
   "cell_type": "code",
   "execution_count": null,
   "id": "67f91d53",
   "metadata": {},
   "outputs": [],
   "source": []
  },
  {
   "cell_type": "code",
   "execution_count": null,
   "id": "8fa8a460",
   "metadata": {},
   "outputs": [],
   "source": []
  },
  {
   "cell_type": "code",
   "execution_count": null,
   "id": "9fa79645",
   "metadata": {},
   "outputs": [],
   "source": []
  },
  {
   "cell_type": "code",
   "execution_count": null,
   "id": "2e81c388",
   "metadata": {},
   "outputs": [],
   "source": []
  },
  {
   "cell_type": "code",
   "execution_count": null,
   "id": "cd6c34e4",
   "metadata": {},
   "outputs": [],
   "source": []
  },
  {
   "cell_type": "code",
   "execution_count": null,
   "id": "9b932530",
   "metadata": {},
   "outputs": [],
   "source": []
  },
  {
   "cell_type": "code",
   "execution_count": null,
   "id": "cb5ccbfb",
   "metadata": {},
   "outputs": [],
   "source": [
    "print(\"Hello World\")"
   ]
  },
  {
   "cell_type": "code",
   "execution_count": null,
   "id": "81ad8a68",
   "metadata": {},
   "outputs": [],
   "source": []
  }
 ],
 "metadata": {
  "kernelspec": {
   "display_name": "Python 3 (ipykernel)",
   "language": "python",
   "name": "python3"
  },
  "language_info": {
   "codemirror_mode": {
    "name": "ipython",
    "version": 3
   },
   "file_extension": ".py",
   "mimetype": "text/x-python",
   "name": "python",
   "nbconvert_exporter": "python",
   "pygments_lexer": "ipython3",
   "version": "3.9.13"
  }
 },
 "nbformat": 4,
 "nbformat_minor": 5
}
