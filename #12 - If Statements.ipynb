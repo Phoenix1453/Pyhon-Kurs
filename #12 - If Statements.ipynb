{
 "cells": [
  {
   "cell_type": "code",
   "execution_count": 1,
   "id": "03cfdc0a",
   "metadata": {},
   "outputs": [
    {
     "name": "stdout",
     "output_type": "stream",
     "text": [
      "3 is greater than 2\n"
     ]
    }
   ],
   "source": [
    "if 3 > 2:\n",
    "    print(\"3 is greater than 2\")"
   ]
  },
  {
   "cell_type": "code",
   "execution_count": 8,
   "id": "a2f9698b",
   "metadata": {},
   "outputs": [],
   "source": [
    "x = 5\n",
    "y = 4"
   ]
  },
  {
   "cell_type": "code",
   "execution_count": 12,
   "id": "0a1c22f3",
   "metadata": {},
   "outputs": [
    {
     "name": "stdout",
     "output_type": "stream",
     "text": [
      "X, y'den büyüktür.\n"
     ]
    }
   ],
   "source": [
    "if x >y:\n",
    "    print(\"X, y'den büyüktür.\")\n",
    "elif x == y:\n",
    "    print(\"X is y\") #x = y\n",
    "else:\n",
    "    print(\"Y , x'den büyüktür.\")"
   ]
  },
  {
   "cell_type": "code",
   "execution_count": 13,
   "id": "d91b33c3",
   "metadata": {},
   "outputs": [
    {
     "name": "stdout",
     "output_type": "stream",
     "text": [
      "Gir : Iron Man\n"
     ]
    }
   ],
   "source": [
    "s = input(\"Gir : \")"
   ]
  },
  {
   "cell_type": "code",
   "execution_count": 15,
   "id": "c8ea2113",
   "metadata": {},
   "outputs": [
    {
     "name": "stdout",
     "output_type": "stream",
     "text": [
      "Tony Stark\n"
     ]
    }
   ],
   "source": [
    "if s == \"Iron Man\":\n",
    "    print(\"Tony Stark\")\n",
    "elif s == \"Hawkeye\":\n",
    "    print(\"Clint Barton\")\n",
    "else:\n",
    "    print(\"Geçersiz değer\")"
   ]
  },
  {
   "cell_type": "code",
   "execution_count": 16,
   "id": "4378ef31",
   "metadata": {},
   "outputs": [],
   "source": [
    "a = 10\n",
    "b = 15\n",
    "c = 20"
   ]
  },
  {
   "cell_type": "code",
   "execution_count": 22,
   "id": "f870ade5",
   "metadata": {},
   "outputs": [
    {
     "name": "stdout",
     "output_type": "stream",
     "text": [
      "Hello World!\n"
     ]
    }
   ],
   "source": [
    "if a > b or b < c:\n",
    "    print(\"Hello World!\")\n",
    "elif a<b and b>c:\n",
    "    print(\"Just Monika\")\n",
    "else:\n",
    "    print(\"Yoo\")"
   ]
  },
  {
   "cell_type": "code",
   "execution_count": 23,
   "id": "fa55f360",
   "metadata": {},
   "outputs": [],
   "source": [
    "isDead = False\n"
   ]
  },
  {
   "cell_type": "code",
   "execution_count": 25,
   "id": "c855a1bb",
   "metadata": {},
   "outputs": [
    {
     "name": "stdout",
     "output_type": "stream",
     "text": [
      "Yaşamaya Devam et\n"
     ]
    }
   ],
   "source": [
    "if isDead == False:\n",
    "    print(\"Yaşamaya Devam et\")\n",
    "else:\n",
    "    print(\"Geçmiş olsun gg sin\")"
   ]
  },
  {
   "cell_type": "code",
   "execution_count": 31,
   "id": "ae03214e",
   "metadata": {},
   "outputs": [
    {
     "name": "stdout",
     "output_type": "stream",
     "text": [
      "Yaşıyorsun\n"
     ]
    }
   ],
   "source": [
    "if isDead:\n",
    "    print(\"Merhaba\") #False olduğu için print çalışmadı burdaki\n",
    "else:\n",
    "    print(\"Yaşıyorsun\")"
   ]
  },
  {
   "cell_type": "code",
   "execution_count": 33,
   "id": "223871d5",
   "metadata": {},
   "outputs": [
    {
     "name": "stdout",
     "output_type": "stream",
     "text": [
      "Ölmedin\n"
     ]
    }
   ],
   "source": [
    "if not isDead:\n",
    "    print(\"Ölmedin\")"
   ]
  },
  {
   "cell_type": "code",
   "execution_count": 34,
   "id": "54c894f6",
   "metadata": {},
   "outputs": [],
   "source": [
    "string = \"Hello World\""
   ]
  },
  {
   "cell_type": "code",
   "execution_count": 36,
   "id": "c379cc9a",
   "metadata": {},
   "outputs": [],
   "source": [
    "if string == \"hello World\":\n",
    "    print(\"Hmm\")#çalışmadı çünkü büyük küçük harf önemli"
   ]
  },
  {
   "cell_type": "code",
   "execution_count": 37,
   "id": "c8d0e4a4",
   "metadata": {},
   "outputs": [
    {
     "name": "stdout",
     "output_type": "stream",
     "text": [
      "Evet var\n"
     ]
    }
   ],
   "source": [
    "if \"Hello\" in string:\n",
    "    print(\"Evet var\") #içinde Hello olduğu için çalıştı\n",
    "else:\n",
    "    print(\"Yok\")"
   ]
  },
  {
   "cell_type": "code",
   "execution_count": 38,
   "id": "76440bd6",
   "metadata": {},
   "outputs": [],
   "source": [
    "list = [1,2,3,4,5]"
   ]
  },
  {
   "cell_type": "code",
   "execution_count": 41,
   "id": "55bd13e3",
   "metadata": {},
   "outputs": [
    {
     "name": "stdout",
     "output_type": "stream",
     "text": [
      "Var\n"
     ]
    }
   ],
   "source": [
    "if 2 in list:\n",
    "    print(\"Var\")"
   ]
  },
  {
   "cell_type": "code",
   "execution_count": 42,
   "id": "ce53cb20",
   "metadata": {},
   "outputs": [],
   "source": [
    "dict = {\"k1\":100,\"k2\":200,\"k3\":300}"
   ]
  },
  {
   "cell_type": "code",
   "execution_count": 46,
   "id": "804bf6ab",
   "metadata": {},
   "outputs": [
    {
     "name": "stdout",
     "output_type": "stream",
     "text": [
      "True\n"
     ]
    }
   ],
   "source": [
    "if \"k1\" in dict.keys():\n",
    "    print(\"True\")\n",
    "else:\n",
    "    print(\"Yok\")"
   ]
  },
  {
   "cell_type": "code",
   "execution_count": 49,
   "id": "8c6c94e9",
   "metadata": {},
   "outputs": [
    {
     "name": "stdout",
     "output_type": "stream",
     "text": [
      "Var\n"
     ]
    }
   ],
   "source": [
    "if 100 in dict.values():\n",
    "    print(\"Var\")"
   ]
  }
 ],
 "metadata": {
  "kernelspec": {
   "display_name": "Python 3 (ipykernel)",
   "language": "python",
   "name": "python3"
  },
  "language_info": {
   "codemirror_mode": {
    "name": "ipython",
    "version": 3
   },
   "file_extension": ".py",
   "mimetype": "text/x-python",
   "name": "python",
   "nbconvert_exporter": "python",
   "pygments_lexer": "ipython3",
   "version": "3.9.13"
  }
 },
 "nbformat": 4,
 "nbformat_minor": 5
}
