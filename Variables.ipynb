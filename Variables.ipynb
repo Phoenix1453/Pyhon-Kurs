{
 "cells": [
  {
   "cell_type": "code",
   "execution_count": 1,
   "id": "c5992a44",
   "metadata": {},
   "outputs": [
    {
     "data": {
      "text/plain": [
       "int"
      ]
     },
     "execution_count": 1,
     "metadata": {},
     "output_type": "execute_result"
    }
   ],
   "source": [
    "type(2)"
   ]
  },
  {
   "cell_type": "code",
   "execution_count": 2,
   "id": "2b7a6d1f",
   "metadata": {},
   "outputs": [
    {
     "data": {
      "text/plain": [
       "103"
      ]
     },
     "execution_count": 2,
     "metadata": {},
     "output_type": "execute_result"
    }
   ],
   "source": [
    "5--98\n"
   ]
  },
  {
   "cell_type": "code",
   "execution_count": 3,
   "id": "86574349",
   "metadata": {},
   "outputs": [
    {
     "data": {
      "text/plain": [
       "103"
      ]
     },
     "execution_count": 3,
     "metadata": {},
     "output_type": "execute_result"
    }
   ],
   "source": [
    "5--98"
   ]
  },
  {
   "cell_type": "code",
   "execution_count": 4,
   "id": "dd08d3f1",
   "metadata": {},
   "outputs": [
    {
     "data": {
      "text/plain": [
       "-93"
      ]
     },
     "execution_count": 4,
     "metadata": {},
     "output_type": "execute_result"
    }
   ],
   "source": [
    "5-98"
   ]
  },
  {
   "cell_type": "code",
   "execution_count": 5,
   "id": "81c7bcde",
   "metadata": {},
   "outputs": [
    {
     "data": {
      "text/plain": [
       "float"
      ]
     },
     "execution_count": 5,
     "metadata": {},
     "output_type": "execute_result"
    }
   ],
   "source": [
    "type(5-98/2)"
   ]
  },
  {
   "cell_type": "code",
   "execution_count": 6,
   "id": "5a85ae19",
   "metadata": {},
   "outputs": [
    {
     "data": {
      "text/plain": [
       "8"
      ]
     },
     "execution_count": 6,
     "metadata": {},
     "output_type": "execute_result"
    }
   ],
   "source": [
    "2**3\n"
   ]
  },
  {
   "cell_type": "code",
   "execution_count": 7,
   "id": "666e3d42",
   "metadata": {},
   "outputs": [
    {
     "data": {
      "text/plain": [
       "25"
      ]
     },
     "execution_count": 7,
     "metadata": {},
     "output_type": "execute_result"
    }
   ],
   "source": [
    "97%36\n"
   ]
  },
  {
   "cell_type": "code",
   "execution_count": 23,
   "id": "cc13f4e9",
   "metadata": {},
   "outputs": [
    {
     "name": "stdout",
     "output_type": "stream",
     "text": [
      "Dairenin yarıçapını giriniz : 4\n",
      "Pi 3 alınarak hesaplanmıştır :   \n",
      " Dairenin Alanı : 48   \n",
      " Dairenin Çevresi : 24\n",
      "Pi 3.14 alınarak hesaplanmıştır :  \n",
      " Dairenin alanı :  50.24   \n",
      " Dairenin Çevresi : 25.12\n"
     ]
    }
   ],
   "source": [
    "yr = int(input(\"Dairenin yarıçapını giriniz : \")) \n",
    "p = 3\n",
    "pi = 3.14\n",
    "\n",
    "print(\"Pi 3 alınarak hesaplanmıştır :   \\n Dairenin Alanı :\", p*yr**2 , \"  \\n Dairenin Çevresi :\", 2*p*yr  )\n",
    "\n",
    "print(\"Pi 3.14 alınarak hesaplanmıştır :  \\n Dairenin alanı : \", pi*yr**2, \"  \\n Dairenin Çevresi :\", 2*pi*yr  )\n",
    "      "
   ]
  },
  {
   "cell_type": "code",
   "execution_count": null,
   "id": "e731f6e2",
   "metadata": {},
   "outputs": [],
   "source": []
  }
 ],
 "metadata": {
  "kernelspec": {
   "display_name": "Python 3 (ipykernel)",
   "language": "python",
   "name": "python3"
  },
  "language_info": {
   "codemirror_mode": {
    "name": "ipython",
    "version": 3
   },
   "file_extension": ".py",
   "mimetype": "text/x-python",
   "name": "python",
   "nbconvert_exporter": "python",
   "pygments_lexer": "ipython3",
   "version": "3.9.13"
  }
 },
 "nbformat": 4,
 "nbformat_minor": 5
}
