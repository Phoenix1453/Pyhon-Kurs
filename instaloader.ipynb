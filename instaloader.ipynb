{
 "cells": [
  {
   "cell_type": "markdown",
   "id": "be9cbcb9",
   "metadata": {},
   "source": [
    "# İNSTA LOADER"
   ]
  },
  {
   "cell_type": "markdown",
   "id": "b908ee25",
   "metadata": {},
   "source": [
    "import instaloader\n",
    "\n",
    "ig = instaloader.Instaloader()\n",
    "dp = input(\"Enter Insta username : \")\n",
    " \n",
    "ig.download_profile(dp , profile_pic_only=True)\n",
    "print(\"Successful...\")\n"
   ]
  },
  {
   "cell_type": "code",
   "execution_count": null,
   "id": "b3a93d8d",
   "metadata": {},
   "outputs": [],
   "source": []
  }
 ],
 "metadata": {
  "kernelspec": {
   "display_name": "Python 3 (ipykernel)",
   "language": "python",
   "name": "python3"
  },
  "language_info": {
   "codemirror_mode": {
    "name": "ipython",
    "version": 3
   },
   "file_extension": ".py",
   "mimetype": "text/x-python",
   "name": "python",
   "nbconvert_exporter": "python",
   "pygments_lexer": "ipython3",
   "version": "3.9.13"
  }
 },
 "nbformat": 4,
 "nbformat_minor": 5
}
