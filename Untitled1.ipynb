{
 "cells": [
  {
   "cell_type": "code",
   "execution_count": 20,
   "id": "19a77c27",
   "metadata": {},
   "outputs": [
    {
     "name": "stdout",
     "output_type": "stream",
     "text": [
      "4\n",
      "6\n",
      "8\n",
      "10\n",
      "12\n",
      "14\n",
      "16\n",
      "18\n",
      "20\n",
      "22\n",
      "24\n",
      "26\n",
      "28\n",
      "30\n",
      "32\n",
      "34\n",
      "36\n",
      "38\n",
      "40\n",
      "42\n",
      "44\n",
      "46\n",
      "48\n",
      "50\n",
      "52\n",
      "54\n",
      "56\n",
      "58\n",
      "60\n",
      "62\n",
      "64\n",
      "66\n",
      "68\n",
      "70\n",
      "72\n",
      "74\n",
      "76\n",
      "78\n",
      "80\n",
      "82\n",
      "84\n",
      "86\n",
      "88\n",
      "90\n",
      "92\n",
      "94\n",
      "96\n",
      "98\n",
      "100\n",
      "102\n",
      "104\n",
      "106\n",
      "108\n",
      "110\n",
      "112\n",
      "114\n",
      "116\n",
      "118\n",
      "120\n",
      "122\n",
      "124\n",
      "126\n",
      "128\n",
      "130\n",
      "132\n",
      "134\n",
      "136\n",
      "138\n",
      "140\n",
      "142\n",
      "144\n",
      "146\n",
      "148\n",
      "150\n",
      "152\n",
      "154\n",
      "156\n",
      "158\n",
      "160\n",
      "162\n",
      "164\n",
      "166\n",
      "168\n",
      "170\n",
      "172\n",
      "174\n",
      "176\n",
      "178\n",
      "180\n",
      "182\n",
      "184\n",
      "186\n",
      "188\n",
      "190\n",
      "192\n",
      "194\n",
      "196\n",
      "198\n",
      "200\n"
     ]
    }
   ],
   "source": [
    "for i in range(1,100):\n",
    "    i += i+2\n",
    "    print(i)\n",
    "    \n",
    "    "
   ]
  },
  {
   "cell_type": "code",
   "execution_count": 5,
   "id": "87302bbb",
   "metadata": {},
   "outputs": [
    {
     "name": "stdout",
     "output_type": "stream",
     "text": [
      "<function function at 0x0000029D59F37D30>\n"
     ]
    }
   ],
   "source": [
    "print(function)"
   ]
  },
  {
   "cell_type": "code",
   "execution_count": 28,
   "id": "f00430bb",
   "metadata": {},
   "outputs": [
    {
     "name": "stdout",
     "output_type": "stream",
     "text": [
      "Merhaba Serhat\n"
     ]
    }
   ],
   "source": [
    "def function(n):\n",
    "    print(\"Merhaba\" ,n)\n",
    "    \n",
    "function(\"Serhat\")"
   ]
  },
  {
   "cell_type": "code",
   "execution_count": 5,
   "id": "cbd0397a",
   "metadata": {},
   "outputs": [
    {
     "name": "stdout",
     "output_type": "stream",
     "text": [
      "Karesini almak istediğiniz sayıyı giriniz : 99\n",
      "Sonuç :  9801\n"
     ]
    }
   ],
   "source": [
    "nm = int(input(\"Karesini almak istediğiniz sayıyı giriniz : \"))\n",
    "   \n",
    "def function(nm):\n",
    "        print(\"Sonuç : \" ,nm * nm)\n",
    "    \n",
    "function(nm)\n",
    "\n"
   ]
  },
  {
   "cell_type": "code",
   "execution_count": null,
   "id": "ae8c4605",
   "metadata": {},
   "outputs": [],
   "source": [
    "print(\"Hello World\")"
   ]
  },
  {
   "cell_type": "code",
   "execution_count": 1,
   "id": "2d88a757",
   "metadata": {},
   "outputs": [
    {
     "name": "stdout",
     "output_type": "stream",
     "text": [
      "Hello World\n"
     ]
    }
   ],
   "source": [
    "print(\"Hello World\")"
   ]
  },
  {
   "cell_type": "code",
   "execution_count": 7,
   "id": "a917f714",
   "metadata": {},
   "outputs": [
    {
     "name": "stdout",
     "output_type": "stream",
     "text": [
      "Karesini almak istediğin sayıyı yaz : 20\n",
      "20 sayısının karesi : 400\n"
     ]
    }
   ],
   "source": [
    "s = int(input(\"Karesini almak istediğin sayıyı yaz : \"))\n",
    "\n",
    "def function(s):\n",
    "    print(s,\"sayısının karesi :\", s*s)\n",
    "    \n",
    "function(s)"
   ]
  },
  {
   "cell_type": "code",
   "execution_count": 8,
   "id": "3619f00a",
   "metadata": {},
   "outputs": [
    {
     "name": "stdout",
     "output_type": "stream",
     "text": [
      "Sayı gir : 5\n",
      "Yeni bir sayı gir : 8\n",
      "Yapmak istediğin işlemi gir : +\n",
      "13\n"
     ]
    }
   ],
   "source": [
    "f = int(input(\"Sayı gir : \"))\n",
    "s = int(input(\"Yeni bir sayı gir : \"))\n",
    "\n",
    "islem = str(input(\"Yapmak istediğin işlemi gir : \"))\n",
    "\n",
    "def function():\n",
    "    \n",
    "    \n",
    "    if islem == \"*\":\n",
    "        print(f*s)\n",
    "    elif islem == \"/\":\n",
    "        print(f/s)\n",
    "    elif islem == \"-\":\n",
    "        print(f-s)\n",
    "    elif islem == \"+\":\n",
    "        print(f+s)\n",
    "    else:\n",
    "        \"Geçersiz işlem\"\n",
    "        print(\"Geçersiz işlem\")\n",
    "     \n",
    "function()\n",
    "\n"
   ]
  },
  {
   "cell_type": "code",
   "execution_count": null,
   "id": "6585479e",
   "metadata": {},
   "outputs": [],
   "source": []
  }
 ],
 "metadata": {
  "kernelspec": {
   "display_name": "Python 3 (ipykernel)",
   "language": "python",
   "name": "python3"
  },
  "language_info": {
   "codemirror_mode": {
    "name": "ipython",
    "version": 3
   },
   "file_extension": ".py",
   "mimetype": "text/x-python",
   "name": "python",
   "nbconvert_exporter": "python",
   "pygments_lexer": "ipython3",
   "version": "3.9.13"
  }
 },
 "nbformat": 4,
 "nbformat_minor": 5
}
