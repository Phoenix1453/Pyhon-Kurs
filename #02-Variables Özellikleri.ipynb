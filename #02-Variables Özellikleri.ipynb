{
 "cells": [
  {
   "cell_type": "code",
   "execution_count": 1,
   "id": "afa2e1cf",
   "metadata": {},
   "outputs": [
    {
     "ename": "NameError",
     "evalue": "name 'my_list' is not defined",
     "output_type": "error",
     "traceback": [
      "\u001b[1;31m---------------------------------------------------------------------------\u001b[0m",
      "\u001b[1;31mNameError\u001b[0m                                 Traceback (most recent call last)",
      "\u001b[1;32m~\\AppData\\Local\\Temp\\ipykernel_12572\\710907387.py\u001b[0m in \u001b[0;36m<module>\u001b[1;34m\u001b[0m\n\u001b[1;32m----> 1\u001b[1;33m \u001b[0mmy_list\u001b[0m\u001b[1;33m[\u001b[0m\u001b[1;36m1\u001b[0m\u001b[1;33m,\u001b[0m\u001b[1;36m2\u001b[0m\u001b[1;33m,\u001b[0m\u001b[1;36m3\u001b[0m\u001b[1;33m,\u001b[0m\u001b[1;36m4\u001b[0m\u001b[1;33m,\u001b[0m\u001b[1;36m5\u001b[0m\u001b[1;33m,\u001b[0m\u001b[1;36m6\u001b[0m\u001b[1;33m,\u001b[0m\u001b[1;36m7\u001b[0m\u001b[1;33m,\u001b[0m\u001b[1;36m8\u001b[0m\u001b[1;33m,\u001b[0m\u001b[1;36m9\u001b[0m\u001b[1;33m,\u001b[0m\u001b[1;36m0\u001b[0m\u001b[1;33m]\u001b[0m\u001b[1;33m\u001b[0m\u001b[1;33m\u001b[0m\u001b[0m\n\u001b[0m",
      "\u001b[1;31mNameError\u001b[0m: name 'my_list' is not defined"
     ]
    }
   ],
   "source": [
    "my_list[1,2,3,4,5,6,7,8,9,0]"
   ]
  },
  {
   "cell_type": "code",
   "execution_count": 2,
   "id": "532aee25",
   "metadata": {},
   "outputs": [],
   "source": [
    "my_list = \"1234567890\""
   ]
  },
  {
   "cell_type": "code",
   "execution_count": 3,
   "id": "9de49851",
   "metadata": {},
   "outputs": [
    {
     "ename": "TypeError",
     "evalue": "string indices must be integers",
     "output_type": "error",
     "traceback": [
      "\u001b[1;31m---------------------------------------------------------------------------\u001b[0m",
      "\u001b[1;31mTypeError\u001b[0m                                 Traceback (most recent call last)",
      "\u001b[1;32m~\\AppData\\Local\\Temp\\ipykernel_12572\\415970071.py\u001b[0m in \u001b[0;36m<module>\u001b[1;34m\u001b[0m\n\u001b[1;32m----> 1\u001b[1;33m \u001b[0mmy_list\u001b[0m\u001b[1;33m[\u001b[0m\u001b[1;36m1\u001b[0m\u001b[1;33m,\u001b[0m\u001b[1;36m2\u001b[0m\u001b[1;33m,\u001b[0m\u001b[1;36m3\u001b[0m\u001b[1;33m,\u001b[0m\u001b[1;36m4\u001b[0m\u001b[1;33m]\u001b[0m\u001b[1;33m\u001b[0m\u001b[1;33m\u001b[0m\u001b[0m\n\u001b[0m",
      "\u001b[1;31mTypeError\u001b[0m: string indices must be integers"
     ]
    }
   ],
   "source": [
    "my_list[1,2,3,4]"
   ]
  },
  {
   "cell_type": "markdown",
   "id": "9bf4cd57",
   "metadata": {},
   "source": [
    "##Tersten yazım için\n"
   ]
  },
  {
   "cell_type": "code",
   "execution_count": 5,
   "id": "30012aa6",
   "metadata": {},
   "outputs": [
    {
     "data": {
      "text/plain": [
       "'0987654321'"
      ]
     },
     "execution_count": 5,
     "metadata": {},
     "output_type": "execute_result"
    }
   ],
   "source": [
    "my_list[::-1]"
   ]
  },
  {
   "cell_type": "code",
   "execution_count": 6,
   "id": "96c138f8",
   "metadata": {},
   "outputs": [
    {
     "name": "stdout",
     "output_type": "stream",
     "text": [
      "Hello World\n"
     ]
    }
   ],
   "source": [
    "print(\"Hello World\")"
   ]
  },
  {
   "cell_type": "code",
   "execution_count": 7,
   "id": "f29799bd",
   "metadata": {},
   "outputs": [
    {
     "data": {
      "text/plain": [
       "'4567890'"
      ]
     },
     "execution_count": 7,
     "metadata": {},
     "output_type": "execute_result"
    }
   ],
   "source": [
    "my_list[3:]"
   ]
  },
  {
   "cell_type": "code",
   "execution_count": 8,
   "id": "3b89921f",
   "metadata": {},
   "outputs": [
    {
     "ename": "SyntaxError",
     "evalue": "invalid syntax (898715360.py, line 1)",
     "output_type": "error",
     "traceback": [
      "\u001b[1;36m  File \u001b[1;32m\"C:\\Users\\hacio\\AppData\\Local\\Temp\\ipykernel_12572\\898715360.py\"\u001b[1;36m, line \u001b[1;32m1\u001b[0m\n\u001b[1;33m    print(my_list[])\u001b[0m\n\u001b[1;37m                  ^\u001b[0m\n\u001b[1;31mSyntaxError\u001b[0m\u001b[1;31m:\u001b[0m invalid syntax\n"
     ]
    }
   ],
   "source": [
    "print(my_list[])"
   ]
  },
  {
   "cell_type": "code",
   "execution_count": 9,
   "id": "213bdf85",
   "metadata": {},
   "outputs": [
    {
     "data": {
      "text/plain": [
       "'1234567890'"
      ]
     },
     "execution_count": 9,
     "metadata": {},
     "output_type": "execute_result"
    }
   ],
   "source": [
    "my_list[::]"
   ]
  },
  {
   "cell_type": "code",
   "execution_count": 10,
   "id": "2b020dee",
   "metadata": {},
   "outputs": [
    {
     "data": {
      "text/plain": [
       "'123'"
      ]
     },
     "execution_count": 10,
     "metadata": {},
     "output_type": "execute_result"
    }
   ],
   "source": [
    "my_list[:3]"
   ]
  },
  {
   "cell_type": "code",
   "execution_count": 11,
   "id": "cd9339c5",
   "metadata": {},
   "outputs": [
    {
     "name": "stdout",
     "output_type": "stream",
     "text": [
      "Just Monika\n"
     ]
    }
   ],
   "source": [
    "print(\"Just Monika\")"
   ]
  },
  {
   "cell_type": "code",
   "execution_count": 1,
   "id": "59141d7e",
   "metadata": {},
   "outputs": [],
   "source": [
    "isim = \"monika\""
   ]
  },
  {
   "cell_type": "code",
   "execution_count": 2,
   "id": "5638ff76",
   "metadata": {},
   "outputs": [
    {
     "data": {
      "text/plain": [
       "<function str.lower()>"
      ]
     },
     "execution_count": 2,
     "metadata": {},
     "output_type": "execute_result"
    }
   ],
   "source": [
    "isim.lower\n"
   ]
  },
  {
   "cell_type": "code",
   "execution_count": 7,
   "id": "7df96866",
   "metadata": {},
   "outputs": [
    {
     "data": {
      "text/plain": [
       "'Monika'"
      ]
     },
     "execution_count": 7,
     "metadata": {},
     "output_type": "execute_result"
    }
   ],
   "source": [
    "isim.capitalize()"
   ]
  },
  {
   "cell_type": "code",
   "execution_count": 8,
   "id": "d774c5ad",
   "metadata": {},
   "outputs": [],
   "source": [
    "büyük_isim = isim.capitalize()"
   ]
  },
  {
   "cell_type": "code",
   "execution_count": 9,
   "id": "40e41705",
   "metadata": {},
   "outputs": [
    {
     "data": {
      "text/plain": [
       "'Monika'"
      ]
     },
     "execution_count": 9,
     "metadata": {},
     "output_type": "execute_result"
    }
   ],
   "source": [
    "büyük_isim"
   ]
  },
  {
   "cell_type": "code",
   "execution_count": 10,
   "id": "927d6ef6",
   "metadata": {},
   "outputs": [
    {
     "ename": "TypeError",
     "evalue": "str.join() takes exactly one argument (0 given)",
     "output_type": "error",
     "traceback": [
      "\u001b[1;31m---------------------------------------------------------------------------\u001b[0m",
      "\u001b[1;31mTypeError\u001b[0m                                 Traceback (most recent call last)",
      "\u001b[1;32m~\\AppData\\Local\\Temp\\ipykernel_1484\\1188956467.py\u001b[0m in \u001b[0;36m<module>\u001b[1;34m\u001b[0m\n\u001b[1;32m----> 1\u001b[1;33m \u001b[0misim\u001b[0m\u001b[1;33m.\u001b[0m\u001b[0mjoin\u001b[0m\u001b[1;33m(\u001b[0m\u001b[1;33m)\u001b[0m\u001b[1;33m\u001b[0m\u001b[1;33m\u001b[0m\u001b[0m\n\u001b[0m",
      "\u001b[1;31mTypeError\u001b[0m: str.join() takes exactly one argument (0 given)"
     ]
    }
   ],
   "source": [
    "isim.join()"
   ]
  },
  {
   "cell_type": "code",
   "execution_count": 11,
   "id": "2641d356",
   "metadata": {},
   "outputs": [
    {
     "data": {
      "text/plain": [
       "'MONIKA'"
      ]
     },
     "execution_count": 11,
     "metadata": {},
     "output_type": "execute_result"
    }
   ],
   "source": [
    "isim.upper()"
   ]
  },
  {
   "cell_type": "code",
   "execution_count": 12,
   "id": "85145baa",
   "metadata": {},
   "outputs": [
    {
     "ename": "AttributeError",
     "evalue": "'str' object has no attribute 'ascii_letters'",
     "output_type": "error",
     "traceback": [
      "\u001b[1;31m---------------------------------------------------------------------------\u001b[0m",
      "\u001b[1;31mAttributeError\u001b[0m                            Traceback (most recent call last)",
      "\u001b[1;32m~\\AppData\\Local\\Temp\\ipykernel_1484\\1998168282.py\u001b[0m in \u001b[0;36m<module>\u001b[1;34m\u001b[0m\n\u001b[1;32m----> 1\u001b[1;33m \u001b[0misim\u001b[0m\u001b[1;33m.\u001b[0m\u001b[0mascii_letters\u001b[0m\u001b[1;33m\u001b[0m\u001b[1;33m\u001b[0m\u001b[0m\n\u001b[0m",
      "\u001b[1;31mAttributeError\u001b[0m: 'str' object has no attribute 'ascii_letters'"
     ]
    }
   ],
   "source": [
    "isim.ascii_letters"
   ]
  },
  {
   "cell_type": "code",
   "execution_count": 14,
   "id": "6734bc29",
   "metadata": {},
   "outputs": [
    {
     "data": {
      "text/plain": [
       "True"
      ]
     },
     "execution_count": 14,
     "metadata": {},
     "output_type": "execute_result"
    }
   ],
   "source": [
    "isim.isascii()"
   ]
  },
  {
   "cell_type": "code",
   "execution_count": 15,
   "id": "3bad399e",
   "metadata": {},
   "outputs": [
    {
     "data": {
      "text/plain": [
       "'MonikaMonikaMonikaMonikaMonikaMonikaMonikaMonikaMonikaMonikaMonikaMonikaMonikaMonikaMonikaMonikaMonikaMonikaMonikaMonikaMonikaMonikaMonikaMonikaMonikaMonikaMonikaMonikaMonikaMonikaMonikaMonikaMonikaMonikaMonikaMonikaMonikaMonikaMonikaMonikaMonikaMonikaMonikaMonikaMonikaMonikaMonikaMonikaMonikaMonikaMonikaMonikaMonikaMonikaMonikaMonikaMonikaMonikaMonikaMonikaMonikaMonikaMonikaMonikaMonikaMonikaMonikaMonikaMonikaMonikaMonikaMonikaMonikaMonikaMonikaMonikaMonikaMonikaMonikaMonikaMonikaMonikaMonikaMonikaMonikaMonikaMonikaMonikaMonikaMonikaMonikaMonikaMonikaMonikaMonikaMonikaMonikaMonikaMonikaMonika'"
      ]
     },
     "execution_count": 15,
     "metadata": {},
     "output_type": "execute_result"
    }
   ],
   "source": [
    "\"Monika\" * 10 * 10"
   ]
  },
  {
   "cell_type": "code",
   "execution_count": 16,
   "id": "2618ed79",
   "metadata": {},
   "outputs": [
    {
     "data": {
      "text/plain": [
       "'Çık kafamın içindenÇık kafamın içindenÇık kafamın içindenÇık kafamın içindenÇık kafamın içindenÇık kafamın içindenÇık kafamın içindenÇık kafamın içindenÇık kafamın içindenÇık kafamın içindenÇık kafamın içindenÇık kafamın içindenÇık kafamın içindenÇık kafamın içindenÇık kafamın içindenÇık kafamın içindenÇık kafamın içindenÇık kafamın içindenÇık kafamın içindenÇık kafamın içindenÇık kafamın içindenÇık kafamın içindenÇık kafamın içindenÇık kafamın içindenÇık kafamın içindenÇık kafamın içindenÇık kafamın içindenÇık kafamın içindenÇık kafamın içindenÇık kafamın içindenÇık kafamın içindenÇık kafamın içindenÇık kafamın içindenÇık kafamın içindenÇık kafamın içindenÇık kafamın içindenÇık kafamın içindenÇık kafamın içindenÇık kafamın içindenÇık kafamın içindenÇık kafamın içindenÇık kafamın içindenÇık kafamın içindenÇık kafamın içindenÇık kafamın içindenÇık kafamın içindenÇık kafamın içindenÇık kafamın içindenÇık kafamın içindenÇık kafamın içindenÇık kafamın içindenÇık kafamın içindenÇık kafamın içindenÇık kafamın içindenÇık kafamın içindenÇık kafamın içindenÇık kafamın içindenÇık kafamın içindenÇık kafamın içindenÇık kafamın içindenÇık kafamın içindenÇık kafamın içindenÇık kafamın içindenÇık kafamın içindenÇık kafamın içindenÇık kafamın içindenÇık kafamın içindenÇık kafamın içindenÇık kafamın içindenÇık kafamın içindenÇık kafamın içindenÇık kafamın içindenÇık kafamın içindenÇık kafamın içindenÇık kafamın içindenÇık kafamın içindenÇık kafamın içindenÇık kafamın içindenÇık kafamın içindenÇık kafamın içindenÇık kafamın içindenÇık kafamın içindenÇık kafamın içindenÇık kafamın içindenÇık kafamın içindenÇık kafamın içindenÇık kafamın içindenÇık kafamın içindenÇık kafamın içindenÇık kafamın içindenÇık kafamın içindenÇık kafamın içindenÇık kafamın içindenÇık kafamın içindenÇık kafamın içindenÇık kafamın içindenÇık kafamın içindenÇık kafamın içindenÇık kafamın içindenÇık kafamın içinden'"
      ]
     },
     "execution_count": 16,
     "metadata": {},
     "output_type": "execute_result"
    }
   ],
   "source": [
    "\"Çık kafamın içinden\" * 10 *10"
   ]
  },
  {
   "cell_type": "code",
   "execution_count": 27,
   "id": "3b0e64e0",
   "metadata": {},
   "outputs": [],
   "source": [
    "game = \"Doki\" + \" Doki\" + \" Literature\" + \" Club\""
   ]
  },
  {
   "cell_type": "code",
   "execution_count": 18,
   "id": "b7471b6e",
   "metadata": {},
   "outputs": [],
   "source": [
    "name = \"Serhat\""
   ]
  },
  {
   "cell_type": "code",
   "execution_count": 22,
   "id": "ce839893",
   "metadata": {},
   "outputs": [],
   "source": [
    "surname = \"Hacıoğulları\""
   ]
  },
  {
   "cell_type": "code",
   "execution_count": 24,
   "id": "1a2379cd",
   "metadata": {},
   "outputs": [],
   "source": [
    "fullname = name +  surname"
   ]
  },
  {
   "cell_type": "code",
   "execution_count": 23,
   "id": "0a883ff7",
   "metadata": {},
   "outputs": [
    {
     "data": {
      "text/plain": [
       "'SerhatHacıoğulları'"
      ]
     },
     "execution_count": 23,
     "metadata": {},
     "output_type": "execute_result"
    }
   ],
   "source": [
    "fullname"
   ]
  },
  {
   "cell_type": "code",
   "execution_count": 25,
   "id": "bbbc0d23",
   "metadata": {},
   "outputs": [
    {
     "data": {
      "text/plain": [
       "'Serhat Hacıoğulları'"
      ]
     },
     "execution_count": 25,
     "metadata": {},
     "output_type": "execute_result"
    }
   ],
   "source": [
    "fullname"
   ]
  },
  {
   "cell_type": "code",
   "execution_count": 26,
   "id": "0419f352",
   "metadata": {},
   "outputs": [
    {
     "data": {
      "text/plain": [
       "'Serhat Hacıoğulları'"
      ]
     },
     "execution_count": 26,
     "metadata": {},
     "output_type": "execute_result"
    }
   ],
   "source": [
    "fullname"
   ]
  },
  {
   "cell_type": "code",
   "execution_count": 28,
   "id": "0956b30b",
   "metadata": {},
   "outputs": [
    {
     "data": {
      "text/plain": [
       "'Doki Doki Literature Club'"
      ]
     },
     "execution_count": 28,
     "metadata": {},
     "output_type": "execute_result"
    }
   ],
   "source": [
    "game"
   ]
  },
  {
   "cell_type": "code",
   "execution_count": null,
   "id": "e577b8d3",
   "metadata": {},
   "outputs": [],
   "source": []
  }
 ],
 "metadata": {
  "kernelspec": {
   "display_name": "Python 3 (ipykernel)",
   "language": "python",
   "name": "python3"
  },
  "language_info": {
   "codemirror_mode": {
    "name": "ipython",
    "version": 3
   },
   "file_extension": ".py",
   "mimetype": "text/x-python",
   "name": "python",
   "nbconvert_exporter": "python",
   "pygments_lexer": "ipython3",
   "version": "3.9.13"
  }
 },
 "nbformat": 4,
 "nbformat_minor": 5
}
