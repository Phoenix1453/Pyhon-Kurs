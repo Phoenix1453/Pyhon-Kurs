{
 "cells": [
  {
   "cell_type": "code",
   "execution_count": 1,
   "id": "04412290",
   "metadata": {},
   "outputs": [],
   "source": [
    "my_string = \"Serhat\""
   ]
  },
  {
   "cell_type": "code",
   "execution_count": 2,
   "id": "77a64ea8",
   "metadata": {},
   "outputs": [
    {
     "data": {
      "text/plain": [
       "'S'"
      ]
     },
     "execution_count": 2,
     "metadata": {},
     "output_type": "execute_result"
    }
   ],
   "source": [
    "my_string[0]"
   ]
  },
  {
   "cell_type": "code",
   "execution_count": 3,
   "id": "f369348c",
   "metadata": {},
   "outputs": [
    {
     "ename": "TypeError",
     "evalue": "'str' object does not support item assignment",
     "output_type": "error",
     "traceback": [
      "\u001b[1;31m---------------------------------------------------------------------------\u001b[0m",
      "\u001b[1;31mTypeError\u001b[0m                                 Traceback (most recent call last)",
      "\u001b[1;32m~\\AppData\\Local\\Temp\\ipykernel_7412\\1790827862.py\u001b[0m in \u001b[0;36m<module>\u001b[1;34m\u001b[0m\n\u001b[1;32m----> 1\u001b[1;33m \u001b[0mmy_string\u001b[0m\u001b[1;33m[\u001b[0m\u001b[1;36m0\u001b[0m\u001b[1;33m]\u001b[0m \u001b[1;33m=\u001b[0m \u001b[1;34m\"B\"\u001b[0m\u001b[1;33m\u001b[0m\u001b[1;33m\u001b[0m\u001b[0m\n\u001b[0m",
      "\u001b[1;31mTypeError\u001b[0m: 'str' object does not support item assignment"
     ]
    }
   ],
   "source": [
    "my_string[0] = \"B\""
   ]
  },
  {
   "cell_type": "code",
   "execution_count": 4,
   "id": "5b117b74",
   "metadata": {},
   "outputs": [],
   "source": [
    "#Değişmezlik Özelliği Sebebiyle Hata Verdi\n"
   ]
  },
  {
   "cell_type": "code",
   "execution_count": 5,
   "id": "9104b3c8",
   "metadata": {},
   "outputs": [],
   "source": [
    "list = [1,2,3]"
   ]
  },
  {
   "cell_type": "code",
   "execution_count": 6,
   "id": "076728d6",
   "metadata": {},
   "outputs": [
    {
     "data": {
      "text/plain": [
       "1"
      ]
     },
     "execution_count": 6,
     "metadata": {},
     "output_type": "execute_result"
    }
   ],
   "source": [
    "list[0]"
   ]
  },
  {
   "cell_type": "code",
   "execution_count": 7,
   "id": "b4d99acb",
   "metadata": {},
   "outputs": [],
   "source": [
    "list[0] = 5"
   ]
  },
  {
   "cell_type": "code",
   "execution_count": 8,
   "id": "228cd236",
   "metadata": {},
   "outputs": [
    {
     "data": {
      "text/plain": [
       "[5, 2, 3]"
      ]
     },
     "execution_count": 8,
     "metadata": {},
     "output_type": "execute_result"
    }
   ],
   "source": [
    "list\n"
   ]
  },
  {
   "cell_type": "markdown",
   "id": "df50a802",
   "metadata": {},
   "source": [
    "##Değişebilir (Mutuable)"
   ]
  },
  {
   "cell_type": "code",
   "execution_count": 16,
   "id": "cf62a198",
   "metadata": {},
   "outputs": [],
   "source": [
    "list.append(7) #Sona rakam ekledi"
   ]
  },
  {
   "cell_type": "code",
   "execution_count": 11,
   "id": "95ab1d66",
   "metadata": {},
   "outputs": [
    {
     "data": {
      "text/plain": [
       "[5, 2, 3, 7]"
      ]
     },
     "execution_count": 11,
     "metadata": {},
     "output_type": "execute_result"
    }
   ],
   "source": [
    "list\n"
   ]
  },
  {
   "cell_type": "code",
   "execution_count": 15,
   "id": "455fdb9d",
   "metadata": {},
   "outputs": [
    {
     "data": {
      "text/plain": [
       "3"
      ]
     },
     "execution_count": 15,
     "metadata": {},
     "output_type": "execute_result"
    }
   ],
   "source": [
    "list.pop() #Son elemanı sildi"
   ]
  },
  {
   "cell_type": "code",
   "execution_count": 14,
   "id": "d827b865",
   "metadata": {},
   "outputs": [
    {
     "data": {
      "text/plain": [
       "[5, 2, 3]"
      ]
     },
     "execution_count": 14,
     "metadata": {},
     "output_type": "execute_result"
    }
   ],
   "source": [
    "list"
   ]
  },
  {
   "cell_type": "code",
   "execution_count": 20,
   "id": "c0c19830",
   "metadata": {},
   "outputs": [],
   "source": [
    "mix_list = [1,8,\"Monika\",\"Sayori\",1.78]"
   ]
  },
  {
   "cell_type": "code",
   "execution_count": 21,
   "id": "cbfef927",
   "metadata": {},
   "outputs": [
    {
     "data": {
      "text/plain": [
       "[1, 8, 'Monika', 'Sayori', 1.78]"
      ]
     },
     "execution_count": 21,
     "metadata": {},
     "output_type": "execute_result"
    }
   ],
   "source": [
    "mix_list"
   ]
  },
  {
   "cell_type": "code",
   "execution_count": 19,
   "id": "e4971f22",
   "metadata": {},
   "outputs": [
    {
     "data": {
      "text/plain": [
       "'Sayori'"
      ]
     },
     "execution_count": 19,
     "metadata": {},
     "output_type": "execute_result"
    }
   ],
   "source": [
    "mix_list[-1]"
   ]
  },
  {
   "cell_type": "code",
   "execution_count": 22,
   "id": "427d1f63",
   "metadata": {},
   "outputs": [],
   "source": [
    "list_a = [\"a\",\"b\",\"c\"]"
   ]
  },
  {
   "cell_type": "code",
   "execution_count": 23,
   "id": "ec7cfb3f",
   "metadata": {},
   "outputs": [],
   "source": [
    "list_b = [\"d\",\"e\",\"f\",\"g\"]"
   ]
  },
  {
   "cell_type": "code",
   "execution_count": 26,
   "id": "bda9728c",
   "metadata": {},
   "outputs": [],
   "source": [
    "list_top = list_a + list_b"
   ]
  },
  {
   "cell_type": "code",
   "execution_count": 27,
   "id": "52c9df69",
   "metadata": {},
   "outputs": [
    {
     "data": {
      "text/plain": [
       "['a', 'b', 'c', 'd', 'e', 'f', 'g']"
      ]
     },
     "execution_count": 27,
     "metadata": {},
     "output_type": "execute_result"
    }
   ],
   "source": [
    "list_top"
   ]
  },
  {
   "cell_type": "code",
   "execution_count": 28,
   "id": "3857b522",
   "metadata": {},
   "outputs": [
    {
     "data": {
      "text/plain": [
       "['a', 'b', 'c', 'a', 'b', 'c']"
      ]
     },
     "execution_count": 28,
     "metadata": {},
     "output_type": "execute_result"
    }
   ],
   "source": [
    "list_a * 2"
   ]
  },
  {
   "cell_type": "code",
   "execution_count": 31,
   "id": "840a0296",
   "metadata": {},
   "outputs": [],
   "source": [
    "list_a.reverse()"
   ]
  },
  {
   "cell_type": "code",
   "execution_count": 32,
   "id": "1db0fdf6",
   "metadata": {},
   "outputs": [
    {
     "data": {
      "text/plain": [
       "['c', 'b', 'a']"
      ]
     },
     "execution_count": 32,
     "metadata": {},
     "output_type": "execute_result"
    }
   ],
   "source": [
    "list_a"
   ]
  },
  {
   "cell_type": "markdown",
   "id": "3749049e",
   "metadata": {},
   "source": [
    "# #Lists Advance\n"
   ]
  },
  {
   "cell_type": "markdown",
   "id": "1aaa2f32",
   "metadata": {},
   "source": [
    "##nasted list"
   ]
  },
  {
   "cell_type": "code",
   "execution_count": 33,
   "id": "2d295346",
   "metadata": {},
   "outputs": [],
   "source": [
    "new_list = [1,4,\"a\"]"
   ]
  },
  {
   "cell_type": "code",
   "execution_count": 34,
   "id": "f0561247",
   "metadata": {},
   "outputs": [],
   "source": [
    "new_list = [1,4,\"a\",[3,\"c\"]] #Liste içine liste ekledik"
   ]
  },
  {
   "cell_type": "code",
   "execution_count": 35,
   "id": "515375fa",
   "metadata": {},
   "outputs": [
    {
     "data": {
      "text/plain": [
       "[1, 4, 'a', [3, 'c']]"
      ]
     },
     "execution_count": 35,
     "metadata": {},
     "output_type": "execute_result"
    }
   ],
   "source": [
    "new_list"
   ]
  },
  {
   "cell_type": "code",
   "execution_count": 36,
   "id": "17ac7fbf",
   "metadata": {},
   "outputs": [
    {
     "data": {
      "text/plain": [
       "'a'"
      ]
     },
     "execution_count": 36,
     "metadata": {},
     "output_type": "execute_result"
    }
   ],
   "source": [
    "new_list[2]"
   ]
  },
  {
   "cell_type": "code",
   "execution_count": 37,
   "id": "8620a000",
   "metadata": {},
   "outputs": [
    {
     "data": {
      "text/plain": [
       "[3, 'c']"
      ]
     },
     "execution_count": 37,
     "metadata": {},
     "output_type": "execute_result"
    }
   ],
   "source": [
    "new_list[3]"
   ]
  },
  {
   "cell_type": "code",
   "execution_count": 38,
   "id": "9e94c4cb",
   "metadata": {},
   "outputs": [],
   "source": [
    "nasted_list = new_list[3]"
   ]
  },
  {
   "cell_type": "code",
   "execution_count": 39,
   "id": "4d562684",
   "metadata": {},
   "outputs": [
    {
     "data": {
      "text/plain": [
       "[3, 'c']"
      ]
     },
     "execution_count": 39,
     "metadata": {},
     "output_type": "execute_result"
    }
   ],
   "source": [
    "nasted_list"
   ]
  },
  {
   "cell_type": "code",
   "execution_count": 41,
   "id": "c262cb3f",
   "metadata": {},
   "outputs": [
    {
     "data": {
      "text/plain": [
       "'c'"
      ]
     },
     "execution_count": 41,
     "metadata": {},
     "output_type": "execute_result"
    }
   ],
   "source": [
    "nasted_list[1]"
   ]
  },
  {
   "cell_type": "code",
   "execution_count": 43,
   "id": "d5eae0a9",
   "metadata": {},
   "outputs": [
    {
     "data": {
      "text/plain": [
       "'c'"
      ]
     },
     "execution_count": 43,
     "metadata": {},
     "output_type": "execute_result"
    }
   ],
   "source": [
    "new_list[3][1] #Direkt c elemanını çağırmak için"
   ]
  },
  {
   "cell_type": "code",
   "execution_count": 44,
   "id": "4f9d83c8",
   "metadata": {},
   "outputs": [
    {
     "data": {
      "text/plain": [
       "[1, 4, 'a', [3, 'c']]"
      ]
     },
     "execution_count": 44,
     "metadata": {},
     "output_type": "execute_result"
    }
   ],
   "source": [
    "new_list"
   ]
  },
  {
   "cell_type": "markdown",
   "id": "1582e421",
   "metadata": {},
   "source": [
    "#Slicing"
   ]
  },
  {
   "cell_type": "code",
   "execution_count": 45,
   "id": "3a77141a",
   "metadata": {},
   "outputs": [
    {
     "data": {
      "text/plain": [
       "['a', [3, 'c']]"
      ]
     },
     "execution_count": 45,
     "metadata": {},
     "output_type": "execute_result"
    }
   ],
   "source": [
    "new_list[2:]"
   ]
  },
  {
   "cell_type": "code",
   "execution_count": 46,
   "id": "403dfac7",
   "metadata": {},
   "outputs": [
    {
     "data": {
      "text/plain": [
       "[1, 4]"
      ]
     },
     "execution_count": 46,
     "metadata": {},
     "output_type": "execute_result"
    }
   ],
   "source": [
    "new_list[:2]"
   ]
  },
  {
   "cell_type": "code",
   "execution_count": null,
   "id": "f33f56e6",
   "metadata": {},
   "outputs": [],
   "source": []
  }
 ],
 "metadata": {
  "kernelspec": {
   "display_name": "Python 3 (ipykernel)",
   "language": "python",
   "name": "python3"
  },
  "language_info": {
   "codemirror_mode": {
    "name": "ipython",
    "version": 3
   },
   "file_extension": ".py",
   "mimetype": "text/x-python",
   "name": "python",
   "nbconvert_exporter": "python",
   "pygments_lexer": "ipython3",
   "version": "3.9.13"
  }
 },
 "nbformat": 4,
 "nbformat_minor": 5
}
